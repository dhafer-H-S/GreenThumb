{
 "cells": [
  {
   "cell_type": "markdown",
   "metadata": {},
   "source": [
    "# Creating final data for crop and fertilizer recommendation system"
   ]
  },
  {
   "cell_type": "code",
   "execution_count": 1,
   "metadata": {},
   "outputs": [],
   "source": [
    "import pandas as pd\n",
    "import matplotlib.pyplot as plt\n",
    "import seaborn as sns"
   ]
  },
  {
   "cell_type": "code",
   "execution_count": 2,
   "metadata": {},
   "outputs": [],
   "source": [
    "fertilizer_data_path = '../Data-raw/FertilizerData.csv'\n",
    "merge_fert = pd.read_csv(fertilizer_data_path)"
   ]
  },
  {
   "cell_type": "code",
   "execution_count": 3,
   "metadata": {},
   "outputs": [
    {
     "data": {
      "text/html": [
       "<div>\n",
       "<style scoped>\n",
       "    .dataframe tbody tr th:only-of-type {\n",
       "        vertical-align: middle;\n",
       "    }\n",
       "\n",
       "    .dataframe tbody tr th {\n",
       "        vertical-align: top;\n",
       "    }\n",
       "\n",
       "    .dataframe thead th {\n",
       "        text-align: right;\n",
       "    }\n",
       "</style>\n",
       "<table border=\"1\" class=\"dataframe\">\n",
       "  <thead>\n",
       "    <tr style=\"text-align: right;\">\n",
       "      <th></th>\n",
       "      <th>Unnamed: 0</th>\n",
       "      <th>No</th>\n",
       "      <th>Crop</th>\n",
       "      <th>N</th>\n",
       "      <th>P</th>\n",
       "      <th>K</th>\n",
       "      <th>pH</th>\n",
       "      <th>Soil_Moisture</th>\n",
       "    </tr>\n",
       "  </thead>\n",
       "  <tbody>\n",
       "    <tr>\n",
       "      <th>0</th>\n",
       "      <td>0</td>\n",
       "      <td>1</td>\n",
       "      <td>almonds</td>\n",
       "      <td>45</td>\n",
       "      <td>20</td>\n",
       "      <td>35</td>\n",
       "      <td>6.5</td>\n",
       "      <td>25</td>\n",
       "    </tr>\n",
       "    <tr>\n",
       "      <th>1</th>\n",
       "      <td>1</td>\n",
       "      <td>2</td>\n",
       "      <td>anise</td>\n",
       "      <td>40</td>\n",
       "      <td>15</td>\n",
       "      <td>30</td>\n",
       "      <td>6.0</td>\n",
       "      <td>20</td>\n",
       "    </tr>\n",
       "    <tr>\n",
       "      <th>2</th>\n",
       "      <td>2</td>\n",
       "      <td>3</td>\n",
       "      <td>apples</td>\n",
       "      <td>50</td>\n",
       "      <td>25</td>\n",
       "      <td>40</td>\n",
       "      <td>6.3</td>\n",
       "      <td>30</td>\n",
       "    </tr>\n",
       "    <tr>\n",
       "      <th>3</th>\n",
       "      <td>3</td>\n",
       "      <td>4</td>\n",
       "      <td>apricots</td>\n",
       "      <td>55</td>\n",
       "      <td>30</td>\n",
       "      <td>45</td>\n",
       "      <td>6.4</td>\n",
       "      <td>28</td>\n",
       "    </tr>\n",
       "    <tr>\n",
       "      <th>4</th>\n",
       "      <td>4</td>\n",
       "      <td>5</td>\n",
       "      <td>artichokes</td>\n",
       "      <td>40</td>\n",
       "      <td>20</td>\n",
       "      <td>35</td>\n",
       "      <td>6.8</td>\n",
       "      <td>35</td>\n",
       "    </tr>\n",
       "  </tbody>\n",
       "</table>\n",
       "</div>"
      ],
      "text/plain": [
       "   Unnamed: 0  No        Crop   N   P   K   pH  Soil_Moisture\n",
       "0           0   1     almonds  45  20  35  6.5             25\n",
       "1           1   2       anise  40  15  30  6.0             20\n",
       "2           2   3      apples  50  25  40  6.3             30\n",
       "3           3   4    apricots  55  30  45  6.4             28\n",
       "4           4   5  artichokes  40  20  35  6.8             35"
      ]
     },
     "execution_count": 3,
     "metadata": {},
     "output_type": "execute_result"
    }
   ],
   "source": [
    "merge_fert.head()"
   ]
  },
  {
   "cell_type": "code",
   "execution_count": 4,
   "metadata": {},
   "outputs": [],
   "source": [
    "del merge_fert['Unnamed: 0']"
   ]
  },
  {
   "cell_type": "code",
   "execution_count": 5,
   "metadata": {},
   "outputs": [
    {
     "data": {
      "text/html": [
       "<div>\n",
       "<style scoped>\n",
       "    .dataframe tbody tr th:only-of-type {\n",
       "        vertical-align: middle;\n",
       "    }\n",
       "\n",
       "    .dataframe tbody tr th {\n",
       "        vertical-align: top;\n",
       "    }\n",
       "\n",
       "    .dataframe thead th {\n",
       "        text-align: right;\n",
       "    }\n",
       "</style>\n",
       "<table border=\"1\" class=\"dataframe\">\n",
       "  <thead>\n",
       "    <tr style=\"text-align: right;\">\n",
       "      <th></th>\n",
       "      <th>No</th>\n",
       "      <th>N</th>\n",
       "      <th>P</th>\n",
       "      <th>K</th>\n",
       "      <th>pH</th>\n",
       "      <th>Soil_Moisture</th>\n",
       "    </tr>\n",
       "  </thead>\n",
       "  <tbody>\n",
       "    <tr>\n",
       "      <th>count</th>\n",
       "      <td>76.000000</td>\n",
       "      <td>76.000000</td>\n",
       "      <td>76.000000</td>\n",
       "      <td>76.000000</td>\n",
       "      <td>76.000000</td>\n",
       "      <td>76.000000</td>\n",
       "    </tr>\n",
       "    <tr>\n",
       "      <th>mean</th>\n",
       "      <td>40.236842</td>\n",
       "      <td>47.500000</td>\n",
       "      <td>26.513158</td>\n",
       "      <td>40.328947</td>\n",
       "      <td>6.347368</td>\n",
       "      <td>28.381579</td>\n",
       "    </tr>\n",
       "    <tr>\n",
       "      <th>std</th>\n",
       "      <td>24.902406</td>\n",
       "      <td>6.137318</td>\n",
       "      <td>6.272678</td>\n",
       "      <td>7.226596</td>\n",
       "      <td>0.250053</td>\n",
       "      <td>5.258560</td>\n",
       "    </tr>\n",
       "    <tr>\n",
       "      <th>min</th>\n",
       "      <td>1.000000</td>\n",
       "      <td>35.000000</td>\n",
       "      <td>15.000000</td>\n",
       "      <td>25.000000</td>\n",
       "      <td>5.500000</td>\n",
       "      <td>18.000000</td>\n",
       "    </tr>\n",
       "    <tr>\n",
       "      <th>25%</th>\n",
       "      <td>19.750000</td>\n",
       "      <td>40.000000</td>\n",
       "      <td>20.000000</td>\n",
       "      <td>35.000000</td>\n",
       "      <td>6.200000</td>\n",
       "      <td>25.000000</td>\n",
       "    </tr>\n",
       "    <tr>\n",
       "      <th>50%</th>\n",
       "      <td>38.500000</td>\n",
       "      <td>50.000000</td>\n",
       "      <td>25.000000</td>\n",
       "      <td>40.000000</td>\n",
       "      <td>6.300000</td>\n",
       "      <td>28.000000</td>\n",
       "    </tr>\n",
       "    <tr>\n",
       "      <th>75%</th>\n",
       "      <td>57.250000</td>\n",
       "      <td>50.000000</td>\n",
       "      <td>30.000000</td>\n",
       "      <td>45.000000</td>\n",
       "      <td>6.500000</td>\n",
       "      <td>30.000000</td>\n",
       "    </tr>\n",
       "    <tr>\n",
       "      <th>max</th>\n",
       "      <td>88.000000</td>\n",
       "      <td>60.000000</td>\n",
       "      <td>40.000000</td>\n",
       "      <td>55.000000</td>\n",
       "      <td>7.000000</td>\n",
       "      <td>45.000000</td>\n",
       "    </tr>\n",
       "  </tbody>\n",
       "</table>\n",
       "</div>"
      ],
      "text/plain": [
       "              No          N          P          K         pH  Soil_Moisture\n",
       "count  76.000000  76.000000  76.000000  76.000000  76.000000      76.000000\n",
       "mean   40.236842  47.500000  26.513158  40.328947   6.347368      28.381579\n",
       "std    24.902406   6.137318   6.272678   7.226596   0.250053       5.258560\n",
       "min     1.000000  35.000000  15.000000  25.000000   5.500000      18.000000\n",
       "25%    19.750000  40.000000  20.000000  35.000000   6.200000      25.000000\n",
       "50%    38.500000  50.000000  25.000000  40.000000   6.300000      28.000000\n",
       "75%    57.250000  50.000000  30.000000  45.000000   6.500000      30.000000\n",
       "max    88.000000  60.000000  40.000000  55.000000   7.000000      45.000000"
      ]
     },
     "execution_count": 5,
     "metadata": {},
     "output_type": "execute_result"
    }
   ],
   "source": [
    "merge_fert.describe()"
   ]
  },
  {
   "cell_type": "code",
   "execution_count": 6,
   "metadata": {},
   "outputs": [
    {
     "data": {
      "text/plain": [
       "array(['almonds', 'anise', 'apples', 'apricots', 'artichokes',\n",
       "       'asparagus', 'avocados', 'badian', 'barley', 'beans', 'beansgreen',\n",
       "       'berriesnes', 'broadbeans', 'cabbagesandotherbrassicas', 'carobs',\n",
       "       'carrotsandturnips', 'cauliflowersandbroccoli', 'cereals',\n",
       "       'cerealsnes', 'cherries', 'chickpeas', 'chillies', 'clementines',\n",
       "       'cranberries', 'cucumbersandgherkins', 'dates',\n",
       "       'eggplants(aubergines)', 'fennel', 'fibrecropsprimary', 'figs',\n",
       "       'fruitprimary', 'garlic', 'grapefruit', 'grapes', 'hazelnuts',\n",
       "       'horsebeans', 'kiwifruit', 'leguminous', 'lemons', 'lentils',\n",
       "       'lettuceandchicory', 'limes', 'linseed', 'mandarins', 'melons',\n",
       "       'mushroomsandtruffles', 'nutsnes', 'oats', 'oilcrops', 'olives',\n",
       "       'onions', 'oranges', 'papayas', 'peachesandnectarines', 'pears',\n",
       "       'peas', 'pistachios', 'plumsandsloes', 'potatoes', 'pulses',\n",
       "       'pulsesnes', 'pumpkins', 'pyrethrum', 'quinces', 'rapeseed',\n",
       "       'tobacco', 'tomatoes', 'treenuts', 'triticale', 'tubers',\n",
       "       'vegetables', 'vegetablesprimary', 'vetches', 'watermelons',\n",
       "       'wheat', 'tropicalfruit'], dtype=object)"
      ]
     },
     "execution_count": 6,
     "metadata": {},
     "output_type": "execute_result"
    }
   ],
   "source": [
    "merge_fert['Crop'].unique()"
   ]
  },
  {
   "cell_type": "code",
   "execution_count": 7,
   "metadata": {},
   "outputs": [
    {
     "data": {
      "text/plain": [
       "[<matplotlib.lines.Line2D at 0x7f7e0b3ec5c0>]"
      ]
     },
     "execution_count": 7,
     "metadata": {},
     "output_type": "execute_result"
    },
    {
     "data": {
      "image/png": "[encoded data removed]",
      "text/plain": [
       "<Figure size 432x288 with 1 Axes>"
      ]
     },
     "metadata": {
      "needs_background": "light"
     },
     "output_type": "display_data"
    }
   ],
   "source": [
    "plt.plot(merge_fert[\"N\"])"
   ]
  },
  {
   "cell_type": "code",
   "execution_count": 8,
   "metadata": {},
   "outputs": [
    {
     "data": {
      "text/plain": [
       "[<matplotlib.lines.Line2D at 0x7f7e0b35d7f0>]"
      ]
     },
     "execution_count": 8,
     "metadata": {},
     "output_type": "execute_result"
    },
    {
     "data": {
      "image/png": "[encoded data removed]",
      "text/plain": [
       "<Figure size 432x288 with 1 Axes>"
      ]
     },
     "metadata": {
      "needs_background": "light"
     },
     "output_type": "display_data"
    }
   ],
   "source": [
    "plt.plot(merge_fert[\"P\"])"
   ]
  },
  {
   "cell_type": "code",
   "execution_count": 9,
   "metadata": {},
   "outputs": [
    {
     "data": {
      "text/plain": [
       "[<matplotlib.lines.Line2D at 0x7f7e0b2da0f0>]"
      ]
     },
     "execution_count": 9,
     "metadata": {},
     "output_type": "execute_result"
    },
    {
     "data": {
      "image/png": "[encoded data removed]",
      "text/plain": [
       "<Figure size 432x288 with 1 Axes>"
      ]
     },
     "metadata": {
      "needs_background": "light"
     },
     "output_type": "display_data"
    }
   ],
   "source": [
    "plt.plot(merge_fert[\"K\"])"
   ]
  },
  {
   "cell_type": "code",
   "execution_count": 10,
   "metadata": {},
   "outputs": [
    {
     "data": {
      "text/plain": [
       "<AxesSubplot:>"
      ]
     },
     "execution_count": 10,
     "metadata": {},
     "output_type": "execute_result"
    },
    {
     "data": {
      "image/png": "[encoded data removed]",
      "text/plain": [
       "<Figure size 432x288 with 2 Axes>"
      ]
     },
     "metadata": {
      "needs_background": "light"
     },
     "output_type": "display_data"
    }
   ],
   "source": [
    "sns.heatmap(merge_fert.corr(),annot=True)"
   ]
  },
  {
   "cell_type": "code",
   "execution_count": 11,
   "metadata": {},
   "outputs": [],
   "source": [
    "merge_crop = pd.read_csv('../Data-raw/MergeFileCrop.csv')\n",
    "reco_fert = merge_fert"
   ]
  },
  {
   "cell_type": "code",
   "execution_count": 12,
   "metadata": {},
   "outputs": [],
   "source": [
    "#Add +/-3 for every NPK value\n",
    "import random\n",
    "temp = pd.DataFrame(columns = ['N','P','K'])\n",
    "for i in range(0,merge_crop.shape[0]):\n",
    "    crop = merge_crop.label.iloc[i]\n",
    "    #print(crop)\n",
    "    N = reco_fert[reco_fert['Crop'] == crop][\"N\"].iloc[0] + random.randint(-20,20)\n",
    "    P = reco_fert[reco_fert['Crop'] == crop][\"P\"].iloc[0] + random.randint(-5,20)\n",
    "    K = reco_fert[reco_fert['Crop'] == crop][\"K\"].iloc[0] + random.randint(-5,5)\n",
    "    d = {\"N\":N,\"P\":P,\"K\":K}\n",
    "    #print(d)\n",
    "    temp = temp.append(d,ignore_index = True)"
   ]
  },
  {
   "cell_type": "code",
   "execution_count": 13,
   "metadata": {},
   "outputs": [
    {
     "data": {
      "text/html": [
       "<div>\n",
       "<style scoped>\n",
       "    .dataframe tbody tr th:only-of-type {\n",
       "        vertical-align: middle;\n",
       "    }\n",
       "\n",
       "    .dataframe tbody tr th {\n",
       "        vertical-align: top;\n",
       "    }\n",
       "\n",
       "    .dataframe thead th {\n",
       "        text-align: right;\n",
       "    }\n",
       "</style>\n",
       "<table border=\"1\" class=\"dataframe\">\n",
       "  <thead>\n",
       "    <tr style=\"text-align: right;\">\n",
       "      <th></th>\n",
       "      <th>N</th>\n",
       "      <th>P</th>\n",
       "      <th>K</th>\n",
       "    </tr>\n",
       "  </thead>\n",
       "  <tbody>\n",
       "    <tr>\n",
       "      <th>0</th>\n",
       "      <td>60</td>\n",
       "      <td>39</td>\n",
       "      <td>30</td>\n",
       "    </tr>\n",
       "    <tr>\n",
       "      <th>1</th>\n",
       "      <td>57</td>\n",
       "      <td>31</td>\n",
       "      <td>39</td>\n",
       "    </tr>\n",
       "    <tr>\n",
       "      <th>2</th>\n",
       "      <td>48</td>\n",
       "      <td>19</td>\n",
       "      <td>30</td>\n",
       "    </tr>\n",
       "    <tr>\n",
       "      <th>3</th>\n",
       "      <td>41</td>\n",
       "      <td>20</td>\n",
       "      <td>36</td>\n",
       "    </tr>\n",
       "    <tr>\n",
       "      <th>4</th>\n",
       "      <td>27</td>\n",
       "      <td>29</td>\n",
       "      <td>40</td>\n",
       "    </tr>\n",
       "    <tr>\n",
       "      <th>...</th>\n",
       "      <td>...</td>\n",
       "      <td>...</td>\n",
       "      <td>...</td>\n",
       "    </tr>\n",
       "    <tr>\n",
       "      <th>700</th>\n",
       "      <td>40</td>\n",
       "      <td>41</td>\n",
       "      <td>50</td>\n",
       "    </tr>\n",
       "    <tr>\n",
       "      <th>701</th>\n",
       "      <td>62</td>\n",
       "      <td>39</td>\n",
       "      <td>60</td>\n",
       "    </tr>\n",
       "    <tr>\n",
       "      <th>702</th>\n",
       "      <td>57</td>\n",
       "      <td>58</td>\n",
       "      <td>53</td>\n",
       "    </tr>\n",
       "    <tr>\n",
       "      <th>703</th>\n",
       "      <td>65</td>\n",
       "      <td>59</td>\n",
       "      <td>56</td>\n",
       "    </tr>\n",
       "    <tr>\n",
       "      <th>704</th>\n",
       "      <td>71</td>\n",
       "      <td>48</td>\n",
       "      <td>56</td>\n",
       "    </tr>\n",
       "  </tbody>\n",
       "</table>\n",
       "<p>705 rows × 3 columns</p>\n",
       "</div>"
      ],
      "text/plain": [
       "      N   P   K\n",
       "0    60  39  30\n",
       "1    57  31  39\n",
       "2    48  19  30\n",
       "3    41  20  36\n",
       "4    27  29  40\n",
       "..   ..  ..  ..\n",
       "700  40  41  50\n",
       "701  62  39  60\n",
       "702  57  58  53\n",
       "703  65  59  56\n",
       "704  71  48  56\n",
       "\n",
       "[705 rows x 3 columns]"
      ]
     },
     "execution_count": 13,
     "metadata": {},
     "output_type": "execute_result"
    }
   ],
   "source": [
    "temp"
   ]
  },
  {
   "cell_type": "code",
   "execution_count": 14,
   "metadata": {},
   "outputs": [],
   "source": [
    "merge_crop['N'] = temp['N']\n",
    "merge_crop['P'] = temp['P']\n",
    "merge_crop['K'] = temp['K']"
   ]
  },
  {
   "cell_type": "code",
   "execution_count": 15,
   "metadata": {},
   "outputs": [
    {
     "data": {
      "text/html": [
       "<div>\n",
       "<style scoped>\n",
       "    .dataframe tbody tr th:only-of-type {\n",
       "        vertical-align: middle;\n",
       "    }\n",
       "\n",
       "    .dataframe tbody tr th {\n",
       "        vertical-align: top;\n",
       "    }\n",
       "\n",
       "    .dataframe thead th {\n",
       "        text-align: right;\n",
       "    }\n",
       "</style>\n",
       "<table border=\"1\" class=\"dataframe\">\n",
       "  <thead>\n",
       "    <tr style=\"text-align: right;\">\n",
       "      <th></th>\n",
       "      <th>Unnamed: 0</th>\n",
       "      <th>temperature</th>\n",
       "      <th>humidity</th>\n",
       "      <th>ph</th>\n",
       "      <th>rainfall</th>\n",
       "      <th>label</th>\n",
       "      <th>N</th>\n",
       "      <th>P</th>\n",
       "      <th>K</th>\n",
       "    </tr>\n",
       "  </thead>\n",
       "  <tbody>\n",
       "    <tr>\n",
       "      <th>0</th>\n",
       "      <td>0</td>\n",
       "      <td>18.886004</td>\n",
       "      <td>84.443365</td>\n",
       "      <td>7.097512</td>\n",
       "      <td>231.756205</td>\n",
       "      <td>almonds</td>\n",
       "      <td>60</td>\n",
       "      <td>39</td>\n",
       "      <td>30</td>\n",
       "    </tr>\n",
       "    <tr>\n",
       "      <th>1</th>\n",
       "      <td>1</td>\n",
       "      <td>20.206120</td>\n",
       "      <td>75.814981</td>\n",
       "      <td>5.846184</td>\n",
       "      <td>225.484858</td>\n",
       "      <td>almonds</td>\n",
       "      <td>57</td>\n",
       "      <td>31</td>\n",
       "      <td>39</td>\n",
       "    </tr>\n",
       "    <tr>\n",
       "      <th>2</th>\n",
       "      <td>2</td>\n",
       "      <td>23.982253</td>\n",
       "      <td>86.229679</td>\n",
       "      <td>7.316914</td>\n",
       "      <td>289.807288</td>\n",
       "      <td>almonds</td>\n",
       "      <td>48</td>\n",
       "      <td>19</td>\n",
       "      <td>30</td>\n",
       "    </tr>\n",
       "    <tr>\n",
       "      <th>3</th>\n",
       "      <td>3</td>\n",
       "      <td>25.356631</td>\n",
       "      <td>79.763802</td>\n",
       "      <td>5.851612</td>\n",
       "      <td>210.140312</td>\n",
       "      <td>almonds</td>\n",
       "      <td>41</td>\n",
       "      <td>20</td>\n",
       "      <td>36</td>\n",
       "    </tr>\n",
       "    <tr>\n",
       "      <th>4</th>\n",
       "      <td>4</td>\n",
       "      <td>27.983475</td>\n",
       "      <td>75.002020</td>\n",
       "      <td>6.511620</td>\n",
       "      <td>281.305479</td>\n",
       "      <td>almonds</td>\n",
       "      <td>27</td>\n",
       "      <td>29</td>\n",
       "      <td>40</td>\n",
       "    </tr>\n",
       "    <tr>\n",
       "      <th>...</th>\n",
       "      <td>...</td>\n",
       "      <td>...</td>\n",
       "      <td>...</td>\n",
       "      <td>...</td>\n",
       "      <td>...</td>\n",
       "      <td>...</td>\n",
       "      <td>...</td>\n",
       "      <td>...</td>\n",
       "      <td>...</td>\n",
       "    </tr>\n",
       "    <tr>\n",
       "      <th>700</th>\n",
       "      <td>700</td>\n",
       "      <td>25.567000</td>\n",
       "      <td>81.789000</td>\n",
       "      <td>5.789000</td>\n",
       "      <td>183.234000</td>\n",
       "      <td>tropicalfruit</td>\n",
       "      <td>40</td>\n",
       "      <td>41</td>\n",
       "      <td>50</td>\n",
       "    </tr>\n",
       "    <tr>\n",
       "      <th>701</th>\n",
       "      <td>701</td>\n",
       "      <td>26.678000</td>\n",
       "      <td>82.890000</td>\n",
       "      <td>5.890000</td>\n",
       "      <td>184.345000</td>\n",
       "      <td>tropicalfruit</td>\n",
       "      <td>62</td>\n",
       "      <td>39</td>\n",
       "      <td>60</td>\n",
       "    </tr>\n",
       "    <tr>\n",
       "      <th>702</th>\n",
       "      <td>702</td>\n",
       "      <td>27.789000</td>\n",
       "      <td>83.901000</td>\n",
       "      <td>5.901000</td>\n",
       "      <td>185.456000</td>\n",
       "      <td>tropicalfruit</td>\n",
       "      <td>57</td>\n",
       "      <td>58</td>\n",
       "      <td>53</td>\n",
       "    </tr>\n",
       "    <tr>\n",
       "      <th>703</th>\n",
       "      <td>703</td>\n",
       "      <td>28.890000</td>\n",
       "      <td>84.012000</td>\n",
       "      <td>6.012000</td>\n",
       "      <td>186.567000</td>\n",
       "      <td>tropicalfruit</td>\n",
       "      <td>65</td>\n",
       "      <td>59</td>\n",
       "      <td>56</td>\n",
       "    </tr>\n",
       "    <tr>\n",
       "      <th>704</th>\n",
       "      <td>704</td>\n",
       "      <td>29.901000</td>\n",
       "      <td>85.123000</td>\n",
       "      <td>6.123000</td>\n",
       "      <td>187.678000</td>\n",
       "      <td>tropicalfruit</td>\n",
       "      <td>71</td>\n",
       "      <td>48</td>\n",
       "      <td>56</td>\n",
       "    </tr>\n",
       "  </tbody>\n",
       "</table>\n",
       "<p>705 rows × 9 columns</p>\n",
       "</div>"
      ],
      "text/plain": [
       "     Unnamed: 0  temperature   humidity        ph    rainfall          label  \\\n",
       "0             0    18.886004  84.443365  7.097512  231.756205        almonds   \n",
       "1             1    20.206120  75.814981  5.846184  225.484858        almonds   \n",
       "2             2    23.982253  86.229679  7.316914  289.807288        almonds   \n",
       "3             3    25.356631  79.763802  5.851612  210.140312        almonds   \n",
       "4             4    27.983475  75.002020  6.511620  281.305479        almonds   \n",
       "..          ...          ...        ...       ...         ...            ...   \n",
       "700         700    25.567000  81.789000  5.789000  183.234000  tropicalfruit   \n",
       "701         701    26.678000  82.890000  5.890000  184.345000  tropicalfruit   \n",
       "702         702    27.789000  83.901000  5.901000  185.456000  tropicalfruit   \n",
       "703         703    28.890000  84.012000  6.012000  186.567000  tropicalfruit   \n",
       "704         704    29.901000  85.123000  6.123000  187.678000  tropicalfruit   \n",
       "\n",
       "      N   P   K  \n",
       "0    60  39  30  \n",
       "1    57  31  39  \n",
       "2    48  19  30  \n",
       "3    41  20  36  \n",
       "4    27  29  40  \n",
       "..   ..  ..  ..  \n",
       "700  40  41  50  \n",
       "701  62  39  60  \n",
       "702  57  58  53  \n",
       "703  65  59  56  \n",
       "704  71  48  56  \n",
       "\n",
       "[705 rows x 9 columns]"
      ]
     },
     "execution_count": 15,
     "metadata": {},
     "output_type": "execute_result"
    }
   ],
   "source": [
    "merge_crop"
   ]
  },
  {
   "cell_type": "code",
   "execution_count": 16,
   "metadata": {},
   "outputs": [],
   "source": [
    "del merge_crop['Unnamed: 0']"
   ]
  },
  {
   "cell_type": "code",
   "execution_count": 17,
   "metadata": {},
   "outputs": [
    {
     "data": {
      "text/html": [
       "<div>\n",
       "<style scoped>\n",
       "    .dataframe tbody tr th:only-of-type {\n",
       "        vertical-align: middle;\n",
       "    }\n",
       "\n",
       "    .dataframe tbody tr th {\n",
       "        vertical-align: top;\n",
       "    }\n",
       "\n",
       "    .dataframe thead th {\n",
       "        text-align: right;\n",
       "    }\n",
       "</style>\n",
       "<table border=\"1\" class=\"dataframe\">\n",
       "  <thead>\n",
       "    <tr style=\"text-align: right;\">\n",
       "      <th></th>\n",
       "      <th>temperature</th>\n",
       "      <th>humidity</th>\n",
       "      <th>ph</th>\n",
       "      <th>rainfall</th>\n",
       "      <th>label</th>\n",
       "      <th>N</th>\n",
       "      <th>P</th>\n",
       "      <th>K</th>\n",
       "    </tr>\n",
       "  </thead>\n",
       "  <tbody>\n",
       "    <tr>\n",
       "      <th>0</th>\n",
       "      <td>18.886004</td>\n",
       "      <td>84.443365</td>\n",
       "      <td>7.097512</td>\n",
       "      <td>231.756205</td>\n",
       "      <td>almonds</td>\n",
       "      <td>60</td>\n",
       "      <td>39</td>\n",
       "      <td>30</td>\n",
       "    </tr>\n",
       "    <tr>\n",
       "      <th>1</th>\n",
       "      <td>20.206120</td>\n",
       "      <td>75.814981</td>\n",
       "      <td>5.846184</td>\n",
       "      <td>225.484858</td>\n",
       "      <td>almonds</td>\n",
       "      <td>57</td>\n",
       "      <td>31</td>\n",
       "      <td>39</td>\n",
       "    </tr>\n",
       "    <tr>\n",
       "      <th>2</th>\n",
       "      <td>23.982253</td>\n",
       "      <td>86.229679</td>\n",
       "      <td>7.316914</td>\n",
       "      <td>289.807288</td>\n",
       "      <td>almonds</td>\n",
       "      <td>48</td>\n",
       "      <td>19</td>\n",
       "      <td>30</td>\n",
       "    </tr>\n",
       "    <tr>\n",
       "      <th>3</th>\n",
       "      <td>25.356631</td>\n",
       "      <td>79.763802</td>\n",
       "      <td>5.851612</td>\n",
       "      <td>210.140312</td>\n",
       "      <td>almonds</td>\n",
       "      <td>41</td>\n",
       "      <td>20</td>\n",
       "      <td>36</td>\n",
       "    </tr>\n",
       "    <tr>\n",
       "      <th>4</th>\n",
       "      <td>27.983475</td>\n",
       "      <td>75.002020</td>\n",
       "      <td>6.511620</td>\n",
       "      <td>281.305479</td>\n",
       "      <td>almonds</td>\n",
       "      <td>27</td>\n",
       "      <td>29</td>\n",
       "      <td>40</td>\n",
       "    </tr>\n",
       "    <tr>\n",
       "      <th>...</th>\n",
       "      <td>...</td>\n",
       "      <td>...</td>\n",
       "      <td>...</td>\n",
       "      <td>...</td>\n",
       "      <td>...</td>\n",
       "      <td>...</td>\n",
       "      <td>...</td>\n",
       "      <td>...</td>\n",
       "    </tr>\n",
       "    <tr>\n",
       "      <th>700</th>\n",
       "      <td>25.567000</td>\n",
       "      <td>81.789000</td>\n",
       "      <td>5.789000</td>\n",
       "      <td>183.234000</td>\n",
       "      <td>tropicalfruit</td>\n",
       "      <td>40</td>\n",
       "      <td>41</td>\n",
       "      <td>50</td>\n",
       "    </tr>\n",
       "    <tr>\n",
       "      <th>701</th>\n",
       "      <td>26.678000</td>\n",
       "      <td>82.890000</td>\n",
       "      <td>5.890000</td>\n",
       "      <td>184.345000</td>\n",
       "      <td>tropicalfruit</td>\n",
       "      <td>62</td>\n",
       "      <td>39</td>\n",
       "      <td>60</td>\n",
       "    </tr>\n",
       "    <tr>\n",
       "      <th>702</th>\n",
       "      <td>27.789000</td>\n",
       "      <td>83.901000</td>\n",
       "      <td>5.901000</td>\n",
       "      <td>185.456000</td>\n",
       "      <td>tropicalfruit</td>\n",
       "      <td>57</td>\n",
       "      <td>58</td>\n",
       "      <td>53</td>\n",
       "    </tr>\n",
       "    <tr>\n",
       "      <th>703</th>\n",
       "      <td>28.890000</td>\n",
       "      <td>84.012000</td>\n",
       "      <td>6.012000</td>\n",
       "      <td>186.567000</td>\n",
       "      <td>tropicalfruit</td>\n",
       "      <td>65</td>\n",
       "      <td>59</td>\n",
       "      <td>56</td>\n",
       "    </tr>\n",
       "    <tr>\n",
       "      <th>704</th>\n",
       "      <td>29.901000</td>\n",
       "      <td>85.123000</td>\n",
       "      <td>6.123000</td>\n",
       "      <td>187.678000</td>\n",
       "      <td>tropicalfruit</td>\n",
       "      <td>71</td>\n",
       "      <td>48</td>\n",
       "      <td>56</td>\n",
       "    </tr>\n",
       "  </tbody>\n",
       "</table>\n",
       "<p>705 rows × 8 columns</p>\n",
       "</div>"
      ],
      "text/plain": [
       "     temperature   humidity        ph    rainfall          label   N   P   K\n",
       "0      18.886004  84.443365  7.097512  231.756205        almonds  60  39  30\n",
       "1      20.206120  75.814981  5.846184  225.484858        almonds  57  31  39\n",
       "2      23.982253  86.229679  7.316914  289.807288        almonds  48  19  30\n",
       "3      25.356631  79.763802  5.851612  210.140312        almonds  41  20  36\n",
       "4      27.983475  75.002020  6.511620  281.305479        almonds  27  29  40\n",
       "..           ...        ...       ...         ...            ...  ..  ..  ..\n",
       "700    25.567000  81.789000  5.789000  183.234000  tropicalfruit  40  41  50\n",
       "701    26.678000  82.890000  5.890000  184.345000  tropicalfruit  62  39  60\n",
       "702    27.789000  83.901000  5.901000  185.456000  tropicalfruit  57  58  53\n",
       "703    28.890000  84.012000  6.012000  186.567000  tropicalfruit  65  59  56\n",
       "704    29.901000  85.123000  6.123000  187.678000  tropicalfruit  71  48  56\n",
       "\n",
       "[705 rows x 8 columns]"
      ]
     },
     "execution_count": 17,
     "metadata": {},
     "output_type": "execute_result"
    }
   ],
   "source": [
    "merge_crop"
   ]
  },
  {
   "cell_type": "code",
   "execution_count": 18,
   "metadata": {},
   "outputs": [],
   "source": [
    "merge_crop = merge_crop[[ 'N', 'P', 'K','temperature', 'humidity', 'ph', 'rainfall', 'label']]"
   ]
  },
  {
   "cell_type": "code",
   "execution_count": 19,
   "metadata": {},
   "outputs": [],
   "source": [
    "merge_crop.to_csv(\"../Data-processed/crop_recommendation.csv\",index=False)"
   ]
  },
  {
   "cell_type": "code",
   "execution_count": 20,
   "metadata": {},
   "outputs": [],
   "source": [
    "# Checking if everything went fine\n",
    "df = pd.read_csv('../Data-processed/crop_recommendation.csv')"
   ]
  },
  {
   "cell_type": "code",
   "execution_count": 21,
   "metadata": {},
   "outputs": [
    {
     "data": {
      "text/html": [
       "<div>\n",
       "<style scoped>\n",
       "    .dataframe tbody tr th:only-of-type {\n",
       "        vertical-align: middle;\n",
       "    }\n",
       "\n",
       "    .dataframe tbody tr th {\n",
       "        vertical-align: top;\n",
       "    }\n",
       "\n",
       "    .dataframe thead th {\n",
       "        text-align: right;\n",
       "    }\n",
       "</style>\n",
       "<table border=\"1\" class=\"dataframe\">\n",
       "  <thead>\n",
       "    <tr style=\"text-align: right;\">\n",
       "      <th></th>\n",
       "      <th>N</th>\n",
       "      <th>P</th>\n",
       "      <th>K</th>\n",
       "      <th>temperature</th>\n",
       "      <th>humidity</th>\n",
       "      <th>ph</th>\n",
       "      <th>rainfall</th>\n",
       "      <th>label</th>\n",
       "    </tr>\n",
       "  </thead>\n",
       "  <tbody>\n",
       "    <tr>\n",
       "      <th>0</th>\n",
       "      <td>60</td>\n",
       "      <td>39</td>\n",
       "      <td>30</td>\n",
       "      <td>18.886004</td>\n",
       "      <td>84.443365</td>\n",
       "      <td>7.097512</td>\n",
       "      <td>231.756205</td>\n",
       "      <td>almonds</td>\n",
       "    </tr>\n",
       "    <tr>\n",
       "      <th>1</th>\n",
       "      <td>57</td>\n",
       "      <td>31</td>\n",
       "      <td>39</td>\n",
       "      <td>20.206120</td>\n",
       "      <td>75.814981</td>\n",
       "      <td>5.846184</td>\n",
       "      <td>225.484858</td>\n",
       "      <td>almonds</td>\n",
       "    </tr>\n",
       "    <tr>\n",
       "      <th>2</th>\n",
       "      <td>48</td>\n",
       "      <td>19</td>\n",
       "      <td>30</td>\n",
       "      <td>23.982253</td>\n",
       "      <td>86.229679</td>\n",
       "      <td>7.316914</td>\n",
       "      <td>289.807288</td>\n",
       "      <td>almonds</td>\n",
       "    </tr>\n",
       "    <tr>\n",
       "      <th>3</th>\n",
       "      <td>41</td>\n",
       "      <td>20</td>\n",
       "      <td>36</td>\n",
       "      <td>25.356631</td>\n",
       "      <td>79.763802</td>\n",
       "      <td>5.851612</td>\n",
       "      <td>210.140312</td>\n",
       "      <td>almonds</td>\n",
       "    </tr>\n",
       "    <tr>\n",
       "      <th>4</th>\n",
       "      <td>27</td>\n",
       "      <td>29</td>\n",
       "      <td>40</td>\n",
       "      <td>27.983475</td>\n",
       "      <td>75.002020</td>\n",
       "      <td>6.511620</td>\n",
       "      <td>281.305479</td>\n",
       "      <td>almonds</td>\n",
       "    </tr>\n",
       "  </tbody>\n",
       "</table>\n",
       "</div>"
      ],
      "text/plain": [
       "    N   P   K  temperature   humidity        ph    rainfall    label\n",
       "0  60  39  30    18.886004  84.443365  7.097512  231.756205  almonds\n",
       "1  57  31  39    20.206120  75.814981  5.846184  225.484858  almonds\n",
       "2  48  19  30    23.982253  86.229679  7.316914  289.807288  almonds\n",
       "3  41  20  36    25.356631  79.763802  5.851612  210.140312  almonds\n",
       "4  27  29  40    27.983475  75.002020  6.511620  281.305479  almonds"
      ]
     },
     "execution_count": 21,
     "metadata": {},
     "output_type": "execute_result"
    }
   ],
   "source": [
    "df.head()"
   ]
  },
  {
   "cell_type": "code",
   "execution_count": 22,
   "metadata": {},
   "outputs": [
    {
     "data": {
      "text/plain": [
       "(705, 8)"
      ]
     },
     "execution_count": 22,
     "metadata": {},
     "output_type": "execute_result"
    }
   ],
   "source": [
    "df.shape"
   ]
  }
 ],
 "metadata": {
  "kernelspec": {
   "display_name": "Python 3 (ipykernel)",
   "language": "python",
   "name": "python3"
  },
  "language_info": {
   "codemirror_mode": {
    "name": "ipython",
    "version": 3
   },
   "file_extension": ".py",
   "mimetype": "text/x-python",
   "name": "python",
   "nbconvert_exporter": "python",
   "pygments_lexer": "ipython3",
   "version": "3.6.12"
  }
 },
 "nbformat": 4,
 "nbformat_minor": 4
}
