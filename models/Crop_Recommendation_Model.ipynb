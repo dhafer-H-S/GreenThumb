{
 "cells": [
  {
   "cell_type": "code",
   "execution_count": 55,
   "metadata": {},
   "outputs": [],
   "source": [
    "# Importing libraries\n",
    "\n",
    "from __future__ import print_function\n",
    "import pandas as pd\n",
    "import numpy as np\n",
    "import matplotlib.pyplot as plt\n",
    "import seaborn as sns\n",
    "from sklearn.metrics import classification_report\n",
    "from sklearn import metrics\n",
    "from sklearn import tree\n",
    "import warnings\n",
    "warnings.filterwarnings('ignore')"
   ]
  },
  {
   "cell_type": "code",
   "execution_count": 56,
   "metadata": {
    "scrolled": true
   },
   "outputs": [],
   "source": [
    "df = pd.read_csv('../Data-processed/crop_recommendation.csv')"
   ]
  },
  {
   "cell_type": "code",
   "execution_count": 57,
   "metadata": {},
   "outputs": [
    {
     "data": {
      "text/html": [
       "<div>\n",
       "<style scoped>\n",
       "    .dataframe tbody tr th:only-of-type {\n",
       "        vertical-align: middle;\n",
       "    }\n",
       "\n",
       "    .dataframe tbody tr th {\n",
       "        vertical-align: top;\n",
       "    }\n",
       "\n",
       "    .dataframe thead th {\n",
       "        text-align: right;\n",
       "    }\n",
       "</style>\n",
       "<table border=\"1\" class=\"dataframe\">\n",
       "  <thead>\n",
       "    <tr style=\"text-align: right;\">\n",
       "      <th></th>\n",
       "      <th>N</th>\n",
       "      <th>P</th>\n",
       "      <th>K</th>\n",
       "      <th>temperature</th>\n",
       "      <th>humidity</th>\n",
       "      <th>ph</th>\n",
       "      <th>rainfall</th>\n",
       "      <th>label</th>\n",
       "    </tr>\n",
       "  </thead>\n",
       "  <tbody>\n",
       "    <tr>\n",
       "      <th>0</th>\n",
       "      <td>74.981605</td>\n",
       "      <td>37.173007</td>\n",
       "      <td>35.473792</td>\n",
       "      <td>18.886004</td>\n",
       "      <td>84.443365</td>\n",
       "      <td>7.097512</td>\n",
       "      <td>231.756205</td>\n",
       "      <td>Almonds</td>\n",
       "    </tr>\n",
       "    <tr>\n",
       "      <th>1</th>\n",
       "      <td>98.028572</td>\n",
       "      <td>48.427664</td>\n",
       "      <td>49.043184</td>\n",
       "      <td>20.206120</td>\n",
       "      <td>75.814981</td>\n",
       "      <td>5.846184</td>\n",
       "      <td>225.484858</td>\n",
       "      <td>Almonds</td>\n",
       "    </tr>\n",
       "    <tr>\n",
       "      <th>2</th>\n",
       "      <td>89.279758</td>\n",
       "      <td>49.671028</td>\n",
       "      <td>35.779569</td>\n",
       "      <td>23.982253</td>\n",
       "      <td>86.229679</td>\n",
       "      <td>7.316914</td>\n",
       "      <td>289.807288</td>\n",
       "      <td>Almonds</td>\n",
       "    </tr>\n",
       "    <tr>\n",
       "      <th>3</th>\n",
       "      <td>83.946339</td>\n",
       "      <td>53.635987</td>\n",
       "      <td>43.119445</td>\n",
       "      <td>25.356631</td>\n",
       "      <td>79.763802</td>\n",
       "      <td>5.851612</td>\n",
       "      <td>210.140312</td>\n",
       "      <td>Almonds</td>\n",
       "    </tr>\n",
       "    <tr>\n",
       "      <th>4</th>\n",
       "      <td>66.240746</td>\n",
       "      <td>45.791489</td>\n",
       "      <td>45.635908</td>\n",
       "      <td>27.983475</td>\n",
       "      <td>75.002020</td>\n",
       "      <td>6.511620</td>\n",
       "      <td>281.305479</td>\n",
       "      <td>Almonds</td>\n",
       "    </tr>\n",
       "  </tbody>\n",
       "</table>\n",
       "</div>"
      ],
      "text/plain": [
       "           N          P          K  temperature   humidity        ph  \\\n",
       "0  74.981605  37.173007  35.473792    18.886004  84.443365  7.097512   \n",
       "1  98.028572  48.427664  49.043184    20.206120  75.814981  5.846184   \n",
       "2  89.279758  49.671028  35.779569    23.982253  86.229679  7.316914   \n",
       "3  83.946339  53.635987  43.119445    25.356631  79.763802  5.851612   \n",
       "4  66.240746  45.791489  45.635908    27.983475  75.002020  6.511620   \n",
       "\n",
       "     rainfall    label  \n",
       "0  231.756205  Almonds  \n",
       "1  225.484858  Almonds  \n",
       "2  289.807288  Almonds  \n",
       "3  210.140312  Almonds  \n",
       "4  281.305479  Almonds  "
      ]
     },
     "execution_count": 57,
     "metadata": {},
     "output_type": "execute_result"
    }
   ],
   "source": [
    "df.head()"
   ]
  },
  {
   "cell_type": "code",
   "execution_count": 58,
   "metadata": {},
   "outputs": [
    {
     "data": {
      "text/html": [
       "<div>\n",
       "<style scoped>\n",
       "    .dataframe tbody tr th:only-of-type {\n",
       "        vertical-align: middle;\n",
       "    }\n",
       "\n",
       "    .dataframe tbody tr th {\n",
       "        vertical-align: top;\n",
       "    }\n",
       "\n",
       "    .dataframe thead th {\n",
       "        text-align: right;\n",
       "    }\n",
       "</style>\n",
       "<table border=\"1\" class=\"dataframe\">\n",
       "  <thead>\n",
       "    <tr style=\"text-align: right;\">\n",
       "      <th></th>\n",
       "      <th>N</th>\n",
       "      <th>P</th>\n",
       "      <th>K</th>\n",
       "      <th>temperature</th>\n",
       "      <th>humidity</th>\n",
       "      <th>ph</th>\n",
       "      <th>rainfall</th>\n",
       "      <th>label</th>\n",
       "    </tr>\n",
       "  </thead>\n",
       "  <tbody>\n",
       "    <tr>\n",
       "      <th>700</th>\n",
       "      <td>84.789</td>\n",
       "      <td>50.123</td>\n",
       "      <td>44.234</td>\n",
       "      <td>25.567</td>\n",
       "      <td>81.789</td>\n",
       "      <td>5.789</td>\n",
       "      <td>183.234</td>\n",
       "      <td>tropical Fruit</td>\n",
       "    </tr>\n",
       "    <tr>\n",
       "      <th>701</th>\n",
       "      <td>85.456</td>\n",
       "      <td>51.789</td>\n",
       "      <td>45.345</td>\n",
       "      <td>26.678</td>\n",
       "      <td>82.890</td>\n",
       "      <td>5.890</td>\n",
       "      <td>184.345</td>\n",
       "      <td>tropical Fruit</td>\n",
       "    </tr>\n",
       "    <tr>\n",
       "      <th>702</th>\n",
       "      <td>86.123</td>\n",
       "      <td>52.456</td>\n",
       "      <td>46.456</td>\n",
       "      <td>27.789</td>\n",
       "      <td>83.901</td>\n",
       "      <td>5.901</td>\n",
       "      <td>185.456</td>\n",
       "      <td>tropical Fruit</td>\n",
       "    </tr>\n",
       "    <tr>\n",
       "      <th>703</th>\n",
       "      <td>87.789</td>\n",
       "      <td>53.123</td>\n",
       "      <td>47.567</td>\n",
       "      <td>28.890</td>\n",
       "      <td>84.012</td>\n",
       "      <td>6.012</td>\n",
       "      <td>186.567</td>\n",
       "      <td>tropical Fruit</td>\n",
       "    </tr>\n",
       "    <tr>\n",
       "      <th>704</th>\n",
       "      <td>88.456</td>\n",
       "      <td>54.789</td>\n",
       "      <td>48.678</td>\n",
       "      <td>29.901</td>\n",
       "      <td>85.123</td>\n",
       "      <td>6.123</td>\n",
       "      <td>187.678</td>\n",
       "      <td>tropical Fruit</td>\n",
       "    </tr>\n",
       "  </tbody>\n",
       "</table>\n",
       "</div>"
      ],
      "text/plain": [
       "          N       P       K  temperature  humidity     ph  rainfall  \\\n",
       "700  84.789  50.123  44.234       25.567    81.789  5.789   183.234   \n",
       "701  85.456  51.789  45.345       26.678    82.890  5.890   184.345   \n",
       "702  86.123  52.456  46.456       27.789    83.901  5.901   185.456   \n",
       "703  87.789  53.123  47.567       28.890    84.012  6.012   186.567   \n",
       "704  88.456  54.789  48.678       29.901    85.123  6.123   187.678   \n",
       "\n",
       "              label  \n",
       "700  tropical Fruit  \n",
       "701  tropical Fruit  \n",
       "702  tropical Fruit  \n",
       "703  tropical Fruit  \n",
       "704  tropical Fruit  "
      ]
     },
     "execution_count": 58,
     "metadata": {},
     "output_type": "execute_result"
    }
   ],
   "source": [
    "df.tail()"
   ]
  },
  {
   "cell_type": "code",
   "execution_count": 59,
   "metadata": {},
   "outputs": [
    {
     "data": {
      "text/plain": [
       "5640"
      ]
     },
     "execution_count": 59,
     "metadata": {},
     "output_type": "execute_result"
    }
   ],
   "source": [
    "df.size"
   ]
  },
  {
   "cell_type": "code",
   "execution_count": 60,
   "metadata": {},
   "outputs": [
    {
     "data": {
      "text/plain": [
       "(705, 8)"
      ]
     },
     "execution_count": 60,
     "metadata": {},
     "output_type": "execute_result"
    }
   ],
   "source": [
    "df.shape"
   ]
  },
  {
   "cell_type": "code",
   "execution_count": 61,
   "metadata": {},
   "outputs": [
    {
     "data": {
      "text/plain": [
       "Index(['N', 'P', 'K', 'temperature', 'humidity', 'ph', 'rainfall', 'label'], dtype='object')"
      ]
     },
     "execution_count": 61,
     "metadata": {},
     "output_type": "execute_result"
    }
   ],
   "source": [
    "df.columns"
   ]
  },
  {
   "cell_type": "code",
   "execution_count": 62,
   "metadata": {},
   "outputs": [
    {
     "data": {
      "text/plain": [
       "array(['Almonds', 'Anise', 'Apples', 'Apricots', 'Artichokes',\n",
       "       'Asparagus', 'Avocados', 'Badian', 'Barley', 'Beans',\n",
       "       'Beans green', 'Berries nes', 'Broad Beans',\n",
       "       'Cabbages and other brassicas', 'Carobs', 'Carrots and turnips',\n",
       "       'Cauliflowers and broccoli', 'Cereals', 'Cereals nes', 'Cherries',\n",
       "       'Chick peas', 'Chillies', 'Clementines', 'Cranberries',\n",
       "       'Cucumbers and gherkins', 'Dates', 'Eggplants (aubergines)',\n",
       "       'Fennel', 'Fibre Crops Primary', 'Figs', 'Fruit Primary', 'Garlic',\n",
       "       'Grapefruit', 'Grapes', 'Hazelnuts', 'Horse beans', 'Kiwi fruit',\n",
       "       'Leguminous', 'Lemons', 'Lentils', 'Lettuce and chicory', 'Limes',\n",
       "       'Linseed', 'Mandarins', 'Melons', 'Mushrooms and truffles',\n",
       "       'Nuts nes', 'Oats', 'Oilcrops', 'Olives', 'Onions', 'Oranges',\n",
       "       'Papayas', 'Peaches and nectarines', 'Pears', 'Peas', 'Pistachios',\n",
       "       'Plums and sloes', 'Potatoes', 'Pulses', 'Pulses nes', 'Pumpkins',\n",
       "       'Pyrethrum', 'Quinces', 'Rapeseed', 'Tobacco', 'Tomatoes',\n",
       "       'Treenuts', 'Triticale', 'Tubers', 'Vegetables',\n",
       "       'Vegetables Primary', 'Vetches', 'Watermelons', 'Wheat',\n",
       "       'tropical Fruit'], dtype=object)"
      ]
     },
     "execution_count": 62,
     "metadata": {},
     "output_type": "execute_result"
    }
   ],
   "source": [
    "df['label'].unique()"
   ]
  },
  {
   "cell_type": "code",
   "execution_count": 63,
   "metadata": {},
   "outputs": [
    {
     "data": {
      "text/plain": [
       "N              float64\n",
       "P              float64\n",
       "K              float64\n",
       "temperature    float64\n",
       "humidity       float64\n",
       "ph             float64\n",
       "rainfall       float64\n",
       "label           object\n",
       "dtype: object"
      ]
     },
     "execution_count": 63,
     "metadata": {},
     "output_type": "execute_result"
    }
   ],
   "source": [
    "df.dtypes"
   ]
  },
  {
   "cell_type": "code",
   "execution_count": 64,
   "metadata": {},
   "outputs": [
    {
     "data": {
      "text/plain": [
       "Grapes                    10\n",
       "Linseed                   10\n",
       "Eggplants (aubergines)    10\n",
       "Potatoes                  10\n",
       "Almonds                   10\n",
       "                          ..\n",
       "Vegetables Primary         5\n",
       "Vetches                    5\n",
       "Triticale                  5\n",
       "Watermelons                5\n",
       "Wheat                      5\n",
       "Name: label, Length: 76, dtype: int64"
      ]
     },
     "execution_count": 64,
     "metadata": {},
     "output_type": "execute_result"
    }
   ],
   "source": [
    "df['label'].value_counts()"
   ]
  },
  {
   "cell_type": "code",
   "execution_count": 65,
   "metadata": {},
   "outputs": [
    {
     "data": {
      "text/plain": [
       "<AxesSubplot:>"
      ]
     },
     "execution_count": 65,
     "metadata": {},
     "output_type": "execute_result"
    },
    {
     "data": {
      "image/png": "[encoded data removed]",
      "text/plain": [
       "<Figure size 432x288 with 2 Axes>"
      ]
     },
     "metadata": {
      "needs_background": "light"
     },
     "output_type": "display_data"
    }
   ],
   "source": [
    "sns.heatmap(df.corr(),annot=True)"
   ]
  },
  {
   "cell_type": "markdown",
   "metadata": {},
   "source": [
    "### Seperating features and target label"
   ]
  },
  {
   "cell_type": "code",
   "execution_count": 66,
   "metadata": {},
   "outputs": [],
   "source": [
    "features = df[['N', 'P','K','temperature', 'humidity', 'ph', 'rainfall']]\n",
    "target = df['label']\n",
    "#features = df[['temperature', 'humidity', 'ph', 'rainfall']]\n",
    "labels = df['label']"
   ]
  },
  {
   "cell_type": "code",
   "execution_count": 67,
   "metadata": {},
   "outputs": [],
   "source": [
    "# Initialzing empty lists to append all model's name and corresponding name\n",
    "acc = []\n",
    "model = []"
   ]
  },
  {
   "cell_type": "code",
   "execution_count": 68,
   "metadata": {},
   "outputs": [],
   "source": [
    "# Splitting into train and test data\n",
    "\n",
    "from sklearn.model_selection import train_test_split\n",
    "Xtrain, Xtest, Ytrain, Ytest = train_test_split(features,target,test_size = 0.2,random_state =2)"
   ]
  },
  {
   "cell_type": "markdown",
   "metadata": {},
   "source": [
    "# Decision Tree"
   ]
  },
  {
   "cell_type": "code",
   "execution_count": 69,
   "metadata": {},
   "outputs": [
    {
     "name": "stdout",
     "output_type": "stream",
     "text": [
      "DecisionTrees's Accuracy is:  4.25531914893617\n",
      "                        precision    recall  f1-score   support\n",
      "\n",
      "               Almonds       0.00      0.00      0.00         2\n",
      "                 Anise       0.00      0.00      0.00         5\n",
      "                Apples       0.00      0.00      0.00         1\n",
      "              Apricots       0.00      0.00      0.00         3\n",
      "            Artichokes       0.00      0.00      0.00         1\n",
      "             Asparagus       0.00      0.00      0.00         1\n",
      "              Avocados       0.00      0.00      0.00         3\n",
      "                Badian       0.00      0.00      0.00         1\n",
      "                Barley       0.00      0.00      0.00         3\n",
      "           Beans green       0.00      0.00      0.00         3\n",
      "           Berries nes       0.00      0.00      0.00         1\n",
      "           Broad Beans       0.00      0.00      0.00         2\n",
      "                Carobs       0.09      0.33      0.14         3\n",
      "   Carrots and turnips       0.00      0.00      0.00         2\n",
      "               Cereals       0.00      0.00      0.00         3\n",
      "           Cereals nes       0.00      0.00      0.00         4\n",
      "              Cherries       0.00      0.00      0.00         1\n",
      "            Chick peas       0.00      0.00      0.00         4\n",
      "              Chillies       0.00      0.00      0.00         2\n",
      "           Clementines       0.00      0.00      0.00         4\n",
      "           Cranberries       0.00      0.00      0.00         1\n",
      "Cucumbers and gherkins       0.00      0.00      0.00         4\n",
      "                 Dates       0.00      0.00      0.00         1\n",
      "Eggplants (aubergines)       0.00      0.00      0.00         1\n",
      "                Fennel       0.00      0.00      0.00         2\n",
      "   Fibre Crops Primary       0.00      0.00      0.00         3\n",
      "                  Figs       0.00      0.00      0.00         3\n",
      "         Fruit Primary       0.00      0.00      0.00         1\n",
      "                Garlic       0.00      0.00      0.00         2\n",
      "            Grapefruit       0.00      0.00      0.00         1\n",
      "                Grapes       0.00      0.00      0.00         1\n",
      "             Hazelnuts       0.00      0.00      0.00         3\n",
      "           Horse beans       0.00      0.00      0.00         1\n",
      "            Kiwi fruit       0.00      0.00      0.00         1\n",
      "            Leguminous       0.00      0.00      0.00         3\n",
      "                Lemons       0.00      0.00      0.00         1\n",
      "               Lentils       0.00      0.00      0.00         2\n",
      "   Lettuce and chicory       0.00      0.00      0.00         2\n",
      "                 Limes       0.00      0.00      0.00         1\n",
      "               Linseed       0.00      0.00      0.00         4\n",
      "             Mandarins       0.00      0.00      0.00         3\n",
      "                Melons       0.00      0.00      0.00         3\n",
      "Mushrooms and truffles       0.00      0.00      0.00         2\n",
      "              Nuts nes       0.00      0.00      0.00         4\n",
      "                  Oats       0.00      0.00      0.00         1\n",
      "              Oilcrops       0.00      0.00      0.00         2\n",
      "                Olives       0.00      0.00      0.00         2\n",
      "                Onions       0.00      0.00      0.00         2\n",
      "               Papayas       0.00      0.00      0.00         1\n",
      "Peaches and nectarines       0.00      0.00      0.00         3\n",
      "                 Pears       0.00      0.00      0.00         1\n",
      "                  Peas       0.00      0.00      0.00         2\n",
      "            Pistachios       0.00      0.00      0.00         2\n",
      "       Plums and sloes       0.00      0.00      0.00         1\n",
      "              Potatoes       0.00      0.00      0.00         1\n",
      "                Pulses       0.00      0.00      0.00         0\n",
      "            Pulses nes       0.00      0.00      0.00         2\n",
      "              Pumpkins       0.00      0.00      0.00         5\n",
      "             Pyrethrum       0.00      0.00      0.00         2\n",
      "               Quinces       0.00      0.00      0.00         3\n",
      "              Rapeseed       0.00      0.00      0.00         1\n",
      "               Tobacco       0.25      0.33      0.29         3\n",
      "              Treenuts       0.00      0.00      0.00         1\n",
      "             Triticale       1.00      1.00      1.00         2\n",
      "            Vegetables       0.00      0.00      0.00         1\n",
      "    Vegetables Primary       1.00      1.00      1.00         1\n",
      "               Vetches       0.25      1.00      0.40         1\n",
      "           Watermelons       0.00      0.00      0.00         1\n",
      "                 Wheat       0.00      0.00      0.00         1\n",
      "        tropical Fruit       0.00      0.00      0.00         0\n",
      "\n",
      "              accuracy                           0.04       141\n",
      "             macro avg       0.04      0.05      0.04       141\n",
      "          weighted avg       0.03      0.04      0.03       141\n",
      "\n"
     ]
    }
   ],
   "source": [
    "from sklearn.tree import DecisionTreeClassifier\n",
    "\n",
    "DecisionTree = DecisionTreeClassifier(criterion=\"entropy\",random_state=2,max_depth=5)\n",
    "\n",
    "DecisionTree.fit(Xtrain,Ytrain)\n",
    "\n",
    "predicted_values = DecisionTree.predict(Xtest)\n",
    "x = metrics.accuracy_score(Ytest, predicted_values)\n",
    "acc.append(x)\n",
    "model.append('Decision Tree')\n",
    "print(\"DecisionTrees's Accuracy is: \", x*100)\n",
    "\n",
    "print(classification_report(Ytest,predicted_values))"
   ]
  },
  {
   "cell_type": "code",
   "execution_count": 70,
   "metadata": {},
   "outputs": [],
   "source": [
    "from sklearn.model_selection import cross_val_score"
   ]
  },
  {
   "cell_type": "code",
   "execution_count": 71,
   "metadata": {},
   "outputs": [],
   "source": [
    "# Cross validation score (Decision Tree)\n",
    "score = cross_val_score(DecisionTree, features, target,cv=5)"
   ]
  },
  {
   "cell_type": "code",
   "execution_count": 72,
   "metadata": {},
   "outputs": [
    {
     "data": {
      "text/plain": [
       "array([0.0070922 , 0.04964539, 0.06382979, 0.04964539, 0.0070922 ])"
      ]
     },
     "execution_count": 72,
     "metadata": {},
     "output_type": "execute_result"
    }
   ],
   "source": [
    "score"
   ]
  },
  {
   "cell_type": "markdown",
   "metadata": {},
   "source": [
    "### Saving trained Decision Tree model"
   ]
  },
  {
   "cell_type": "code",
   "execution_count": 73,
   "metadata": {},
   "outputs": [],
   "source": [
    "import pickle\n",
    "# Dump the trained Naive Bayes classifier with Pickle\n",
    "DT_pkl_filename = '../models/DecisionTree.pkl'\n",
    "# Open the file to save as pkl file\n",
    "DT_Model_pkl = open(DT_pkl_filename, 'wb')\n",
    "pickle.dump(DecisionTree, DT_Model_pkl)\n",
    "# Close the pickle instances\n",
    "DT_Model_pkl.close()"
   ]
  },
  {
   "cell_type": "markdown",
   "metadata": {},
   "source": [
    "# Guassian Naive Bayes"
   ]
  },
  {
   "cell_type": "code",
   "execution_count": 74,
   "metadata": {},
   "outputs": [
    {
     "name": "stdout",
     "output_type": "stream",
     "text": [
      "Naive Bayes's Accuracy is:  0.05673758865248227\n",
      "                              precision    recall  f1-score   support\n",
      "\n",
      "                     Almonds       0.00      0.00      0.00         2\n",
      "                       Anise       0.00      0.00      0.00         5\n",
      "                      Apples       0.00      0.00      0.00         1\n",
      "                    Apricots       0.00      0.00      0.00         3\n",
      "                  Artichokes       0.00      0.00      0.00         1\n",
      "                   Asparagus       0.00      0.00      0.00         1\n",
      "                    Avocados       0.00      0.00      0.00         3\n",
      "                      Badian       0.00      0.00      0.00         1\n",
      "                      Barley       0.00      0.00      0.00         3\n",
      "                       Beans       0.00      0.00      0.00         0\n",
      "                 Beans green       0.00      0.00      0.00         3\n",
      "                 Berries nes       0.00      0.00      0.00         1\n",
      "                 Broad Beans       0.00      0.00      0.00         2\n",
      "Cabbages and other brassicas       0.00      0.00      0.00         0\n",
      "                      Carobs       0.00      0.00      0.00         3\n",
      "         Carrots and turnips       0.00      0.00      0.00         2\n",
      "                     Cereals       0.00      0.00      0.00         3\n",
      "                 Cereals nes       0.00      0.00      0.00         4\n",
      "                    Cherries       0.00      0.00      0.00         1\n",
      "                  Chick peas       0.00      0.00      0.00         4\n",
      "                    Chillies       0.00      0.00      0.00         2\n",
      "                 Clementines       0.00      0.00      0.00         4\n",
      "                 Cranberries       0.00      0.00      0.00         1\n",
      "      Cucumbers and gherkins       0.00      0.00      0.00         4\n",
      "                       Dates       0.00      0.00      0.00         1\n",
      "      Eggplants (aubergines)       0.00      0.00      0.00         1\n",
      "                      Fennel       0.00      0.00      0.00         2\n",
      "         Fibre Crops Primary       0.00      0.00      0.00         3\n",
      "                        Figs       0.00      0.00      0.00         3\n",
      "               Fruit Primary       0.00      0.00      0.00         1\n",
      "                      Garlic       0.00      0.00      0.00         2\n",
      "                  Grapefruit       0.00      0.00      0.00         1\n",
      "                      Grapes       0.00      0.00      0.00         1\n",
      "                   Hazelnuts       0.00      0.00      0.00         3\n",
      "                 Horse beans       0.00      0.00      0.00         1\n",
      "                  Kiwi fruit       0.00      0.00      0.00         1\n",
      "                  Leguminous       0.00      0.00      0.00         3\n",
      "                      Lemons       0.00      0.00      0.00         1\n",
      "                     Lentils       0.00      0.00      0.00         2\n",
      "         Lettuce and chicory       0.00      0.00      0.00         2\n",
      "                       Limes       0.00      0.00      0.00         1\n",
      "                     Linseed       0.00      0.00      0.00         4\n",
      "                   Mandarins       0.00      0.00      0.00         3\n",
      "                      Melons       0.00      0.00      0.00         3\n",
      "      Mushrooms and truffles       0.00      0.00      0.00         2\n",
      "                    Nuts nes       0.00      0.00      0.00         4\n",
      "                        Oats       0.00      0.00      0.00         1\n",
      "                    Oilcrops       0.00      0.00      0.00         2\n",
      "                      Olives       0.00      0.00      0.00         2\n",
      "                      Onions       0.00      0.00      0.00         2\n",
      "                     Oranges       0.00      0.00      0.00         0\n",
      "                     Papayas       0.00      0.00      0.00         1\n",
      "      Peaches and nectarines       0.00      0.00      0.00         3\n",
      "                       Pears       0.00      0.00      0.00         1\n",
      "                        Peas       0.00      0.00      0.00         2\n",
      "                  Pistachios       0.00      0.00      0.00         2\n",
      "             Plums and sloes       0.00      0.00      0.00         1\n",
      "                    Potatoes       0.00      0.00      0.00         1\n",
      "                      Pulses       0.00      0.00      0.00         0\n",
      "                  Pulses nes       0.00      0.00      0.00         2\n",
      "                    Pumpkins       0.00      0.00      0.00         5\n",
      "                   Pyrethrum       0.00      0.00      0.00         2\n",
      "                     Quinces       0.00      0.00      0.00         3\n",
      "                    Rapeseed       0.00      0.00      0.00         1\n",
      "                     Tobacco       1.00      0.33      0.50         3\n",
      "                    Treenuts       1.00      1.00      1.00         1\n",
      "                   Triticale       1.00      1.00      1.00         2\n",
      "                  Vegetables       1.00      1.00      1.00         1\n",
      "          Vegetables Primary       1.00      1.00      1.00         1\n",
      "                     Vetches       1.00      1.00      1.00         1\n",
      "                 Watermelons       1.00      1.00      1.00         1\n",
      "                       Wheat       0.00      0.00      0.00         1\n",
      "\n",
      "                    accuracy                           0.06       141\n",
      "                   macro avg       0.10      0.09      0.09       141\n",
      "                weighted avg       0.07      0.06      0.06       141\n",
      "\n"
     ]
    }
   ],
   "source": [
    "from sklearn.naive_bayes import GaussianNB\n",
    "\n",
    "NaiveBayes = GaussianNB()\n",
    "\n",
    "NaiveBayes.fit(Xtrain,Ytrain)\n",
    "\n",
    "predicted_values = NaiveBayes.predict(Xtest)\n",
    "x = metrics.accuracy_score(Ytest, predicted_values)\n",
    "acc.append(x)\n",
    "model.append('Naive Bayes')\n",
    "print(\"Naive Bayes's Accuracy is: \", x)\n",
    "\n",
    "print(classification_report(Ytest,predicted_values))"
   ]
  },
  {
   "cell_type": "code",
   "execution_count": 75,
   "metadata": {},
   "outputs": [
    {
     "data": {
      "text/plain": [
       "array([0.0070922 , 0.09219858, 0.07801418, 0.09219858, 0.0212766 ])"
      ]
     },
     "execution_count": 75,
     "metadata": {},
     "output_type": "execute_result"
    }
   ],
   "source": [
    "# Cross validation score (NaiveBayes)\n",
    "score = cross_val_score(NaiveBayes,features,target,cv=5)\n",
    "score"
   ]
  },
  {
   "cell_type": "markdown",
   "metadata": {},
   "source": [
    "### Saving trained Guassian Naive Bayes model"
   ]
  },
  {
   "cell_type": "code",
   "execution_count": 76,
   "metadata": {},
   "outputs": [],
   "source": [
    "import pickle\n",
    "# Dump the trained Naive Bayes classifier with Pickle\n",
    "NB_pkl_filename = '../models/NBClassifier.pkl'\n",
    "# Open the file to save as pkl file\n",
    "NB_Model_pkl = open(NB_pkl_filename, 'wb')\n",
    "pickle.dump(NaiveBayes, NB_Model_pkl)\n",
    "# Close the pickle instances\n",
    "NB_Model_pkl.close()"
   ]
  },
  {
   "cell_type": "markdown",
   "metadata": {},
   "source": [
    "# Support Vector Machine (SVM)"
   ]
  },
  {
   "cell_type": "code",
   "execution_count": 77,
   "metadata": {},
   "outputs": [
    {
     "name": "stdout",
     "output_type": "stream",
     "text": [
      "SVM's Accuracy is:  0.07801418439716312\n",
      "                              precision    recall  f1-score   support\n",
      "\n",
      "                     Almonds       0.00      0.00      0.00         2\n",
      "                       Anise       0.00      0.00      0.00         5\n",
      "                      Apples       0.00      0.00      0.00         1\n",
      "                    Apricots       0.00      0.00      0.00         3\n",
      "                  Artichokes       0.00      0.00      0.00         1\n",
      "                   Asparagus       0.00      0.00      0.00         1\n",
      "                    Avocados       0.00      0.00      0.00         3\n",
      "                      Badian       0.00      0.00      0.00         1\n",
      "                      Barley       0.00      0.00      0.00         3\n",
      "                       Beans       0.00      0.00      0.00         0\n",
      "                 Beans green       0.00      0.00      0.00         3\n",
      "                 Berries nes       0.00      0.00      0.00         1\n",
      "                 Broad Beans       0.00      0.00      0.00         2\n",
      "Cabbages and other brassicas       0.00      0.00      0.00         0\n",
      "                      Carobs       0.00      0.00      0.00         3\n",
      "         Carrots and turnips       0.00      0.00      0.00         2\n",
      "                     Cereals       0.00      0.00      0.00         3\n",
      "                 Cereals nes       0.00      0.00      0.00         4\n",
      "                    Cherries       0.00      0.00      0.00         1\n",
      "                  Chick peas       0.00      0.00      0.00         4\n",
      "                    Chillies       0.00      0.00      0.00         2\n",
      "                 Clementines       0.00      0.00      0.00         4\n",
      "                 Cranberries       0.00      0.00      0.00         1\n",
      "      Cucumbers and gherkins       0.00      0.00      0.00         4\n",
      "                       Dates       0.00      0.00      0.00         1\n",
      "      Eggplants (aubergines)       0.00      0.00      0.00         1\n",
      "                      Fennel       0.00      0.00      0.00         2\n",
      "         Fibre Crops Primary       0.00      0.00      0.00         3\n",
      "                        Figs       0.00      0.00      0.00         3\n",
      "               Fruit Primary       0.20      1.00      0.33         1\n",
      "                      Garlic       0.00      0.00      0.00         2\n",
      "                  Grapefruit       0.00      0.00      0.00         1\n",
      "                      Grapes       0.00      0.00      0.00         1\n",
      "                   Hazelnuts       0.00      0.00      0.00         3\n",
      "                 Horse beans       0.00      0.00      0.00         1\n",
      "                  Kiwi fruit       0.00      0.00      0.00         1\n",
      "                  Leguminous       0.00      0.00      0.00         3\n",
      "                      Lemons       0.00      0.00      0.00         1\n",
      "                     Lentils       0.00      0.00      0.00         2\n",
      "         Lettuce and chicory       0.00      0.00      0.00         2\n",
      "                       Limes       0.00      0.00      0.00         1\n",
      "                     Linseed       0.00      0.00      0.00         4\n",
      "                   Mandarins       0.00      0.00      0.00         3\n",
      "                      Melons       0.00      0.00      0.00         3\n",
      "      Mushrooms and truffles       0.00      0.00      0.00         2\n",
      "                    Nuts nes       0.00      0.00      0.00         4\n",
      "                        Oats       0.00      0.00      0.00         1\n",
      "                    Oilcrops       0.00      0.00      0.00         2\n",
      "                      Olives       0.00      0.00      0.00         2\n",
      "                      Onions       0.00      0.00      0.00         2\n",
      "                     Oranges       0.00      0.00      0.00         0\n",
      "                     Papayas       0.00      0.00      0.00         1\n",
      "      Peaches and nectarines       0.00      0.00      0.00         3\n",
      "                       Pears       0.00      0.00      0.00         1\n",
      "                        Peas       0.00      0.00      0.00         2\n",
      "                  Pistachios       0.00      0.00      0.00         2\n",
      "             Plums and sloes       0.00      0.00      0.00         1\n",
      "                    Potatoes       0.00      0.00      0.00         1\n",
      "                      Pulses       0.00      0.00      0.00         0\n",
      "                  Pulses nes       0.00      0.00      0.00         2\n",
      "                    Pumpkins       0.00      0.00      0.00         5\n",
      "                   Pyrethrum       0.00      0.00      0.00         2\n",
      "                     Quinces       0.00      0.00      0.00         3\n",
      "                    Rapeseed       0.00      0.00      0.00         1\n",
      "                     Tobacco       0.67      0.67      0.67         3\n",
      "                    Treenuts       0.50      1.00      0.67         1\n",
      "                   Triticale       1.00      1.00      1.00         2\n",
      "                  Vegetables       1.00      1.00      1.00         1\n",
      "          Vegetables Primary       1.00      1.00      1.00         1\n",
      "                     Vetches       1.00      1.00      1.00         1\n",
      "                 Watermelons       1.00      1.00      1.00         1\n",
      "                       Wheat       0.50      1.00      0.67         1\n",
      "              tropical Fruit       0.00      0.00      0.00         0\n",
      "\n",
      "                    accuracy                           0.08       141\n",
      "                   macro avg       0.09      0.12      0.10       141\n",
      "                weighted avg       0.07      0.08      0.07       141\n",
      "\n"
     ]
    }
   ],
   "source": [
    "from sklearn.svm import SVC\n",
    "# data normalization with sklearn\n",
    "from sklearn.preprocessing import MinMaxScaler\n",
    "# fit scaler on training data\n",
    "norm = MinMaxScaler().fit(Xtrain)\n",
    "X_train_norm = norm.transform(Xtrain)\n",
    "# transform testing dataabs\n",
    "X_test_norm = norm.transform(Xtest)\n",
    "SVM = SVC(kernel='poly', degree=3, C=1)\n",
    "SVM.fit(X_train_norm,Ytrain)\n",
    "predicted_values = SVM.predict(X_test_norm)\n",
    "x = metrics.accuracy_score(Ytest, predicted_values)\n",
    "acc.append(x)\n",
    "model.append('SVM')\n",
    "print(\"SVM's Accuracy is: \", x)\n",
    "\n",
    "print(classification_report(Ytest,predicted_values))"
   ]
  },
  {
   "cell_type": "code",
   "execution_count": 78,
   "metadata": {},
   "outputs": [
    {
     "data": {
      "text/plain": [
       "array([0.       , 0.       , 0.0070922, 0.0141844, 0.0070922])"
      ]
     },
     "execution_count": 78,
     "metadata": {},
     "output_type": "execute_result"
    }
   ],
   "source": [
    "# Cross validation score (SVM)\n",
    "score = cross_val_score(SVM,features,target,cv=5)\n",
    "score"
   ]
  },
  {
   "cell_type": "code",
   "execution_count": 79,
   "metadata": {},
   "outputs": [],
   "source": [
    "#Saving trained SVM model"
   ]
  },
  {
   "cell_type": "code",
   "execution_count": 80,
   "metadata": {},
   "outputs": [],
   "source": [
    "import pickle\n",
    "# Dump the trained SVM classifier with Pickle\n",
    "SVM_pkl_filename = '../models/SVMClassifier.pkl'\n",
    "# Open the file to save as pkl file\n",
    "SVM_Model_pkl = open(SVM_pkl_filename, 'wb')\n",
    "pickle.dump(SVM, SVM_Model_pkl)\n",
    "# Close the pickle instances\n",
    "SVM_Model_pkl.close()"
   ]
  },
  {
   "cell_type": "markdown",
   "metadata": {},
   "source": [
    "# Logistic Regression"
   ]
  },
  {
   "cell_type": "code",
   "execution_count": 81,
   "metadata": {},
   "outputs": [
    {
     "name": "stdout",
     "output_type": "stream",
     "text": [
      "Logistic Regression's Accuracy is:  0.05673758865248227\n",
      "                              precision    recall  f1-score   support\n",
      "\n",
      "                     Almonds       0.00      0.00      0.00         2\n",
      "                       Anise       0.00      0.00      0.00         5\n",
      "                      Apples       0.00      0.00      0.00         1\n",
      "                    Apricots       0.00      0.00      0.00         3\n",
      "                  Artichokes       0.00      0.00      0.00         1\n",
      "                   Asparagus       0.00      0.00      0.00         1\n",
      "                    Avocados       0.00      0.00      0.00         3\n",
      "                      Badian       0.00      0.00      0.00         1\n",
      "                      Barley       0.00      0.00      0.00         3\n",
      "                       Beans       0.00      0.00      0.00         0\n",
      "                 Beans green       0.00      0.00      0.00         3\n",
      "                 Berries nes       0.00      0.00      0.00         1\n",
      "                 Broad Beans       0.00      0.00      0.00         2\n",
      "Cabbages and other brassicas       0.00      0.00      0.00         0\n",
      "                      Carobs       0.00      0.00      0.00         3\n",
      "         Carrots and turnips       0.00      0.00      0.00         2\n",
      "   Cauliflowers and broccoli       0.00      0.00      0.00         0\n",
      "                     Cereals       0.00      0.00      0.00         3\n",
      "                 Cereals nes       0.00      0.00      0.00         4\n",
      "                    Cherries       0.00      0.00      0.00         1\n",
      "                  Chick peas       0.00      0.00      0.00         4\n",
      "                    Chillies       0.00      0.00      0.00         2\n",
      "                 Clementines       0.00      0.00      0.00         4\n",
      "                 Cranberries       0.00      0.00      0.00         1\n",
      "      Cucumbers and gherkins       0.00      0.00      0.00         4\n",
      "                       Dates       0.00      0.00      0.00         1\n",
      "      Eggplants (aubergines)       0.00      0.00      0.00         1\n",
      "                      Fennel       0.00      0.00      0.00         2\n",
      "         Fibre Crops Primary       0.00      0.00      0.00         3\n",
      "                        Figs       0.00      0.00      0.00         3\n",
      "               Fruit Primary       0.00      0.00      0.00         1\n",
      "                      Garlic       0.00      0.00      0.00         2\n",
      "                  Grapefruit       0.00      0.00      0.00         1\n",
      "                      Grapes       0.00      0.00      0.00         1\n",
      "                   Hazelnuts       0.00      0.00      0.00         3\n",
      "                 Horse beans       0.00      0.00      0.00         1\n",
      "                  Kiwi fruit       0.00      0.00      0.00         1\n",
      "                  Leguminous       0.00      0.00      0.00         3\n",
      "                      Lemons       0.00      0.00      0.00         1\n",
      "                     Lentils       0.00      0.00      0.00         2\n",
      "         Lettuce and chicory       1.00      0.50      0.67         2\n",
      "                       Limes       0.00      0.00      0.00         1\n",
      "                     Linseed       0.00      0.00      0.00         4\n",
      "                   Mandarins       0.00      0.00      0.00         3\n",
      "                      Melons       0.00      0.00      0.00         3\n",
      "      Mushrooms and truffles       0.00      0.00      0.00         2\n",
      "                    Nuts nes       0.00      0.00      0.00         4\n",
      "                        Oats       0.00      0.00      0.00         1\n",
      "                    Oilcrops       0.00      0.00      0.00         2\n",
      "                      Olives       0.00      0.00      0.00         2\n",
      "                      Onions       0.00      0.00      0.00         2\n",
      "                     Oranges       0.00      0.00      0.00         0\n",
      "                     Papayas       0.00      0.00      0.00         1\n",
      "      Peaches and nectarines       0.00      0.00      0.00         3\n",
      "                       Pears       0.00      0.00      0.00         1\n",
      "                        Peas       0.00      0.00      0.00         2\n",
      "                  Pistachios       0.00      0.00      0.00         2\n",
      "             Plums and sloes       0.00      0.00      0.00         1\n",
      "                    Potatoes       0.00      0.00      0.00         1\n",
      "                      Pulses       0.00      0.00      0.00         0\n",
      "                  Pulses nes       0.00      0.00      0.00         2\n",
      "                    Pumpkins       0.00      0.00      0.00         5\n",
      "                   Pyrethrum       0.00      0.00      0.00         2\n",
      "                     Quinces       0.00      0.00      0.00         3\n",
      "                    Rapeseed       0.00      0.00      0.00         1\n",
      "                     Tobacco       0.00      0.00      0.00         3\n",
      "                    Tomatoes       0.00      0.00      0.00         0\n",
      "                    Treenuts       1.00      1.00      1.00         1\n",
      "                   Triticale       0.50      1.00      0.67         2\n",
      "                      Tubers       0.00      0.00      0.00         0\n",
      "                  Vegetables       1.00      1.00      1.00         1\n",
      "          Vegetables Primary       1.00      1.00      1.00         1\n",
      "                     Vetches       0.50      1.00      0.67         1\n",
      "                 Watermelons       0.50      1.00      0.67         1\n",
      "                       Wheat       0.00      0.00      0.00         1\n",
      "              tropical Fruit       0.00      0.00      0.00         0\n",
      "\n",
      "                    accuracy                           0.06       141\n",
      "                   macro avg       0.07      0.09      0.07       141\n",
      "                weighted avg       0.05      0.06      0.05       141\n",
      "\n"
     ]
    }
   ],
   "source": [
    "from sklearn.linear_model import LogisticRegression\n",
    "\n",
    "LogReg = LogisticRegression(random_state=2)\n",
    "\n",
    "LogReg.fit(Xtrain,Ytrain)\n",
    "\n",
    "predicted_values = LogReg.predict(Xtest)\n",
    "\n",
    "x = metrics.accuracy_score(Ytest, predicted_values)\n",
    "acc.append(x)\n",
    "model.append('Logistic Regression')\n",
    "print(\"Logistic Regression's Accuracy is: \", x)\n",
    "\n",
    "print(classification_report(Ytest,predicted_values))"
   ]
  },
  {
   "cell_type": "code",
   "execution_count": 82,
   "metadata": {},
   "outputs": [
    {
     "data": {
      "text/plain": [
       "array([0.07801418, 0.07092199, 0.07092199, 0.07092199, 0.07801418])"
      ]
     },
     "execution_count": 82,
     "metadata": {},
     "output_type": "execute_result"
    }
   ],
   "source": [
    "# Cross validation score (Logistic Regression)\n",
    "score = cross_val_score(LogReg,features,target,cv=5)\n",
    "score"
   ]
  },
  {
   "cell_type": "markdown",
   "metadata": {},
   "source": [
    "### Saving trained Logistic Regression model"
   ]
  },
  {
   "cell_type": "code",
   "execution_count": 83,
   "metadata": {},
   "outputs": [],
   "source": [
    "import pickle\n",
    "# Dump the trained Naive Bayes classifier with Pickle\n",
    "LR_pkl_filename = '../models/LogisticRegression.pkl'\n",
    "# Open the file to save as pkl file\n",
    "LR_Model_pkl = open(DT_pkl_filename, 'wb')\n",
    "pickle.dump(LogReg, LR_Model_pkl)\n",
    "# Close the pickle instances\n",
    "LR_Model_pkl.close()"
   ]
  },
  {
   "cell_type": "markdown",
   "metadata": {},
   "source": [
    "# Random Forest"
   ]
  },
  {
   "cell_type": "code",
   "execution_count": 84,
   "metadata": {},
   "outputs": [
    {
     "name": "stdout",
     "output_type": "stream",
     "text": [
      "RF's Accuracy is:  0.06382978723404255\n",
      "                              precision    recall  f1-score   support\n",
      "\n",
      "                     Almonds       0.00      0.00      0.00         2\n",
      "                       Anise       0.00      0.00      0.00         5\n",
      "                      Apples       0.00      0.00      0.00         1\n",
      "                    Apricots       0.00      0.00      0.00         3\n",
      "                  Artichokes       0.00      0.00      0.00         1\n",
      "                   Asparagus       0.00      0.00      0.00         1\n",
      "                    Avocados       0.50      0.33      0.40         3\n",
      "                      Badian       0.00      0.00      0.00         1\n",
      "                      Barley       0.00      0.00      0.00         3\n",
      "                       Beans       0.00      0.00      0.00         0\n",
      "                 Beans green       0.00      0.00      0.00         3\n",
      "                 Berries nes       0.00      0.00      0.00         1\n",
      "                 Broad Beans       0.00      0.00      0.00         2\n",
      "Cabbages and other brassicas       0.00      0.00      0.00         0\n",
      "                      Carobs       0.00      0.00      0.00         3\n",
      "         Carrots and turnips       0.00      0.00      0.00         2\n",
      "                     Cereals       0.00      0.00      0.00         3\n",
      "                 Cereals nes       0.00      0.00      0.00         4\n",
      "                    Cherries       0.00      0.00      0.00         1\n",
      "                  Chick peas       0.00      0.00      0.00         4\n",
      "                    Chillies       0.00      0.00      0.00         2\n",
      "                 Clementines       0.00      0.00      0.00         4\n",
      "                 Cranberries       0.00      0.00      0.00         1\n",
      "      Cucumbers and gherkins       0.00      0.00      0.00         4\n",
      "                       Dates       0.00      0.00      0.00         1\n",
      "      Eggplants (aubergines)       0.00      0.00      0.00         1\n",
      "                      Fennel       0.00      0.00      0.00         2\n",
      "         Fibre Crops Primary       0.00      0.00      0.00         3\n",
      "                        Figs       0.00      0.00      0.00         3\n",
      "               Fruit Primary       0.00      0.00      0.00         1\n",
      "                      Garlic       0.00      0.00      0.00         2\n",
      "                  Grapefruit       0.00      0.00      0.00         1\n",
      "                      Grapes       0.00      0.00      0.00         1\n",
      "                   Hazelnuts       0.00      0.00      0.00         3\n",
      "                 Horse beans       0.00      0.00      0.00         1\n",
      "                  Kiwi fruit       0.00      0.00      0.00         1\n",
      "                  Leguminous       0.00      0.00      0.00         3\n",
      "                      Lemons       0.00      0.00      0.00         1\n",
      "                     Lentils       0.00      0.00      0.00         2\n",
      "         Lettuce and chicory       0.00      0.00      0.00         2\n",
      "                       Limes       0.00      0.00      0.00         1\n",
      "                     Linseed       0.00      0.00      0.00         4\n",
      "                   Mandarins       0.00      0.00      0.00         3\n",
      "                      Melons       0.00      0.00      0.00         3\n",
      "      Mushrooms and truffles       0.00      0.00      0.00         2\n",
      "                    Nuts nes       0.00      0.00      0.00         4\n",
      "                        Oats       0.00      0.00      0.00         1\n",
      "                    Oilcrops       0.00      0.00      0.00         2\n",
      "                      Olives       0.00      0.00      0.00         2\n",
      "                      Onions       0.00      0.00      0.00         2\n",
      "                     Oranges       0.00      0.00      0.00         0\n",
      "                     Papayas       0.00      0.00      0.00         1\n",
      "      Peaches and nectarines       0.00      0.00      0.00         3\n",
      "                       Pears       0.00      0.00      0.00         1\n",
      "                        Peas       0.00      0.00      0.00         2\n",
      "                  Pistachios       0.00      0.00      0.00         2\n",
      "             Plums and sloes       0.00      0.00      0.00         1\n",
      "                    Potatoes       0.00      0.00      0.00         1\n",
      "                      Pulses       0.00      0.00      0.00         0\n",
      "                  Pulses nes       0.00      0.00      0.00         2\n",
      "                    Pumpkins       0.00      0.00      0.00         5\n",
      "                   Pyrethrum       0.00      0.00      0.00         2\n",
      "                     Quinces       0.00      0.00      0.00         3\n",
      "                    Rapeseed       0.00      0.00      0.00         1\n",
      "                     Tobacco       0.50      0.33      0.40         3\n",
      "                    Treenuts       0.50      1.00      0.67         1\n",
      "                   Triticale       1.00      0.50      0.67         2\n",
      "                      Tubers       0.00      0.00      0.00         0\n",
      "                  Vegetables       1.00      1.00      1.00         1\n",
      "          Vegetables Primary       0.50      1.00      0.67         1\n",
      "                     Vetches       0.50      1.00      0.67         1\n",
      "                 Watermelons       1.00      1.00      1.00         1\n",
      "                       Wheat       1.00      1.00      1.00         1\n",
      "              tropical Fruit       0.00      0.00      0.00         0\n",
      "\n",
      "                    accuracy                           0.06       141\n",
      "                   macro avg       0.09      0.10      0.09       141\n",
      "                weighted avg       0.07      0.06      0.06       141\n",
      "\n"
     ]
    }
   ],
   "source": [
    "from sklearn.ensemble import RandomForestClassifier\n",
    "\n",
    "RF = RandomForestClassifier(n_estimators=20, random_state=0)\n",
    "RF.fit(Xtrain,Ytrain)\n",
    "\n",
    "predicted_values = RF.predict(Xtest)\n",
    "\n",
    "x = metrics.accuracy_score(Ytest, predicted_values)\n",
    "acc.append(x)\n",
    "model.append('RF')\n",
    "print(\"RF's Accuracy is: \", x)\n",
    "\n",
    "print(classification_report(Ytest,predicted_values))"
   ]
  },
  {
   "cell_type": "code",
   "execution_count": 85,
   "metadata": {},
   "outputs": [
    {
     "data": {
      "text/plain": [
       "array([0.04255319, 0.11347518, 0.08510638, 0.07801418, 0.07801418])"
      ]
     },
     "execution_count": 85,
     "metadata": {},
     "output_type": "execute_result"
    }
   ],
   "source": [
    "# Cross validation score (Random Forest)\n",
    "score = cross_val_score(RF,features,target,cv=5)\n",
    "score"
   ]
  },
  {
   "cell_type": "markdown",
   "metadata": {},
   "source": [
    "### Saving trained Random Forest model"
   ]
  },
  {
   "cell_type": "code",
   "execution_count": 86,
   "metadata": {},
   "outputs": [],
   "source": [
    "import pickle\n",
    "# Dump the trained Naive Bayes classifier with Pickle\n",
    "RF_pkl_filename = '../models/RandomForest.pkl'\n",
    "# Open the file to save as pkl file\n",
    "RF_Model_pkl = open(RF_pkl_filename, 'wb')\n",
    "pickle.dump(RF, RF_Model_pkl)\n",
    "# Close the pickle instances\n",
    "RF_Model_pkl.close()"
   ]
  },
  {
   "cell_type": "markdown",
   "metadata": {},
   "source": [
    "# XGBoost"
   ]
  },
  {
   "cell_type": "code",
   "execution_count": 87,
   "metadata": {
    "scrolled": true
   },
   "outputs": [
    {
     "ename": "ValueError",
     "evalue": "Mismatched version between the Python package and the native shared object.  Python package version: 2.0.3. Shared object version: 1.5.2. Shared object is loaded from: /home/darkarc/miniconda3/envs/GreenThumb/lib/python3.6/site-packages/xgboost/lib/libxgboost.so.\nLikely cause:\n  * XGBoost is first installed with anaconda then upgraded with pip. To fix it please remove one of the installations.",
     "output_type": "error",
     "traceback": [
      "\u001b[0;31m---------------------------------------------------------------------------\u001b[0m",
      "\u001b[0;31mValueError\u001b[0m                                Traceback (most recent call last)",
      "\u001b[0;32m<ipython-input-87-3034ee056589>\u001b[0m in \u001b[0;36m<module>\u001b[0;34m\u001b[0m\n\u001b[0;32m----> 1\u001b[0;31m \u001b[0;32mimport\u001b[0m \u001b[0mxgboost\u001b[0m \u001b[0;32mas\u001b[0m \u001b[0mxgb\u001b[0m\u001b[0;34m\u001b[0m\u001b[0;34m\u001b[0m\u001b[0m\n\u001b[0m\u001b[1;32m      2\u001b[0m \u001b[0mXB\u001b[0m \u001b[0;34m=\u001b[0m \u001b[0mxgb\u001b[0m\u001b[0;34m.\u001b[0m\u001b[0mXGBClassifier\u001b[0m\u001b[0;34m(\u001b[0m\u001b[0;34m)\u001b[0m\u001b[0;34m\u001b[0m\u001b[0;34m\u001b[0m\u001b[0m\n\u001b[1;32m      3\u001b[0m \u001b[0mXB\u001b[0m\u001b[0;34m.\u001b[0m\u001b[0mfit\u001b[0m\u001b[0;34m(\u001b[0m\u001b[0mXtrain\u001b[0m\u001b[0;34m,\u001b[0m\u001b[0mYtrain\u001b[0m\u001b[0;34m)\u001b[0m\u001b[0;34m\u001b[0m\u001b[0;34m\u001b[0m\u001b[0m\n\u001b[1;32m      4\u001b[0m \u001b[0;34m\u001b[0m\u001b[0m\n\u001b[1;32m      5\u001b[0m \u001b[0mpredicted_values\u001b[0m \u001b[0;34m=\u001b[0m \u001b[0mXB\u001b[0m\u001b[0;34m.\u001b[0m\u001b[0mpredict\u001b[0m\u001b[0;34m(\u001b[0m\u001b[0mXtest\u001b[0m\u001b[0;34m)\u001b[0m\u001b[0;34m\u001b[0m\u001b[0;34m\u001b[0m\u001b[0m\n",
      "\u001b[0;32m~/miniconda3/envs/GreenThumb/lib/python3.6/site-packages/xgboost/__init__.py\u001b[0m in \u001b[0;36m<module>\u001b[0;34m\u001b[0m\n\u001b[1;32m      5\u001b[0m \u001b[0;34m\u001b[0m\u001b[0m\n\u001b[1;32m      6\u001b[0m \u001b[0;32mfrom\u001b[0m \u001b[0;34m.\u001b[0m \u001b[0;32mimport\u001b[0m \u001b[0mtracker\u001b[0m  \u001b[0;31m# noqa\u001b[0m\u001b[0;34m\u001b[0m\u001b[0;34m\u001b[0m\u001b[0m\n\u001b[0;32m----> 7\u001b[0;31m \u001b[0;32mfrom\u001b[0m \u001b[0;34m.\u001b[0m \u001b[0;32mimport\u001b[0m \u001b[0mcollective\u001b[0m\u001b[0;34m,\u001b[0m \u001b[0mdask\u001b[0m\u001b[0;34m,\u001b[0m \u001b[0mrabit\u001b[0m\u001b[0;34m\u001b[0m\u001b[0;34m\u001b[0m\u001b[0m\n\u001b[0m\u001b[1;32m      8\u001b[0m from .core import (\n\u001b[1;32m      9\u001b[0m     \u001b[0mBooster\u001b[0m\u001b[0;34m,\u001b[0m\u001b[0;34m\u001b[0m\u001b[0;34m\u001b[0m\u001b[0m\n",
      "\u001b[0;32m~/miniconda3/envs/GreenThumb/lib/python3.6/site-packages/xgboost/collective.py\u001b[0m in \u001b[0;36m<module>\u001b[0;34m\u001b[0m\n\u001b[1;32m     10\u001b[0m \u001b[0;34m\u001b[0m\u001b[0m\n\u001b[1;32m     11\u001b[0m \u001b[0;32mfrom\u001b[0m \u001b[0;34m.\u001b[0m\u001b[0m_typing\u001b[0m \u001b[0;32mimport\u001b[0m \u001b[0m_T\u001b[0m\u001b[0;34m\u001b[0m\u001b[0;34m\u001b[0m\u001b[0m\n\u001b[0;32m---> 12\u001b[0;31m \u001b[0;32mfrom\u001b[0m \u001b[0;34m.\u001b[0m\u001b[0mcore\u001b[0m \u001b[0;32mimport\u001b[0m \u001b[0m_LIB\u001b[0m\u001b[0;34m,\u001b[0m \u001b[0m_check_call\u001b[0m\u001b[0;34m,\u001b[0m \u001b[0mc_str\u001b[0m\u001b[0;34m,\u001b[0m \u001b[0mfrom_pystr_to_cstr\u001b[0m\u001b[0;34m,\u001b[0m \u001b[0mpy_str\u001b[0m\u001b[0;34m\u001b[0m\u001b[0;34m\u001b[0m\u001b[0m\n\u001b[0m\u001b[1;32m     13\u001b[0m \u001b[0;34m\u001b[0m\u001b[0m\n\u001b[1;32m     14\u001b[0m \u001b[0mLOGGER\u001b[0m \u001b[0;34m=\u001b[0m \u001b[0mlogging\u001b[0m\u001b[0;34m.\u001b[0m\u001b[0mgetLogger\u001b[0m\u001b[0;34m(\u001b[0m\u001b[0;34m\"[xgboost.collective]\"\u001b[0m\u001b[0;34m)\u001b[0m\u001b[0;34m\u001b[0m\u001b[0;34m\u001b[0m\u001b[0m\n",
      "\u001b[0;32m~/miniconda3/envs/GreenThumb/lib/python3.6/site-packages/xgboost/core.py\u001b[0m in \u001b[0;36m<module>\u001b[0;34m\u001b[0m\n\u001b[1;32m    265\u001b[0m \u001b[0;34m\u001b[0m\u001b[0m\n\u001b[1;32m    266\u001b[0m \u001b[0;31m# load the XGBoost library globally\u001b[0m\u001b[0;34m\u001b[0m\u001b[0;34m\u001b[0m\u001b[0;34m\u001b[0m\u001b[0m\n\u001b[0;32m--> 267\u001b[0;31m \u001b[0m_LIB\u001b[0m \u001b[0;34m=\u001b[0m \u001b[0m_load_lib\u001b[0m\u001b[0;34m(\u001b[0m\u001b[0;34m)\u001b[0m\u001b[0;34m\u001b[0m\u001b[0;34m\u001b[0m\u001b[0m\n\u001b[0m\u001b[1;32m    268\u001b[0m \u001b[0;34m\u001b[0m\u001b[0m\n\u001b[1;32m    269\u001b[0m \u001b[0;34m\u001b[0m\u001b[0m\n",
      "\u001b[0;32m~/miniconda3/envs/GreenThumb/lib/python3.6/site-packages/xgboost/core.py\u001b[0m in \u001b[0;36m_load_lib\u001b[0;34m()\u001b[0m\n\u001b[1;32m    259\u001b[0m             \u001b[0;34m\"please remove one of the installations.\"\u001b[0m\u001b[0;34m\u001b[0m\u001b[0;34m\u001b[0m\u001b[0m\n\u001b[1;32m    260\u001b[0m         )\n\u001b[0;32m--> 261\u001b[0;31m         \u001b[0;32mraise\u001b[0m \u001b[0mValueError\u001b[0m\u001b[0;34m(\u001b[0m\u001b[0mmsg\u001b[0m\u001b[0;34m)\u001b[0m\u001b[0;34m\u001b[0m\u001b[0;34m\u001b[0m\u001b[0m\n\u001b[0m\u001b[1;32m    262\u001b[0m \u001b[0;34m\u001b[0m\u001b[0m\n\u001b[1;32m    263\u001b[0m     \u001b[0;32mreturn\u001b[0m \u001b[0mlib\u001b[0m\u001b[0;34m\u001b[0m\u001b[0;34m\u001b[0m\u001b[0m\n",
      "\u001b[0;31mValueError\u001b[0m: Mismatched version between the Python package and the native shared object.  Python package version: 2.0.3. Shared object version: 1.5.2. Shared object is loaded from: /home/darkarc/miniconda3/envs/GreenThumb/lib/python3.6/site-packages/xgboost/lib/libxgboost.so.\nLikely cause:\n  * XGBoost is first installed with anaconda then upgraded with pip. To fix it please remove one of the installations."
     ]
    }
   ],
   "source": [
    "import xgboost as xgb\n",
    "XB = xgb.XGBClassifier()\n",
    "XB.fit(Xtrain,Ytrain)\n",
    "\n",
    "predicted_values = XB.predict(Xtest)\n",
    "\n",
    "x = metrics.accuracy_score(Ytest, predicted_values)\n",
    "acc.append(x)\n",
    "model.append('XGBoost')\n",
    "print(\"XGBoost's Accuracy is: \", x)\n",
    "\n",
    "print(classification_report(Ytest,predicted_values))"
   ]
  },
  {
   "cell_type": "code",
   "execution_count": null,
   "metadata": {},
   "outputs": [],
   "source": [
    "# Cross validation score (XGBoost)\n",
    "score = cross_val_score(XB,features,target,cv=5)\n",
    "score"
   ]
  },
  {
   "cell_type": "markdown",
   "metadata": {},
   "source": [
    "### Saving trained XGBoost model"
   ]
  },
  {
   "cell_type": "code",
   "execution_count": null,
   "metadata": {},
   "outputs": [],
   "source": [
    "import pickle\n",
    "# Dump the trained Naive Bayes classifier with Pickle\n",
    "XB_pkl_filename = '../models/XGBoost.pkl'\n",
    "# Open the file to save as pkl file\n",
    "XB_Model_pkl = open(XB_pkl_filename, 'wb')\n",
    "pickle.dump(XB, XB_Model_pkl)\n",
    "# Close the pickle instances\n",
    "XB_Model_pkl.close()"
   ]
  },
  {
   "cell_type": "markdown",
   "metadata": {},
   "source": [
    "## Accuracy Comparison"
   ]
  },
  {
   "cell_type": "code",
   "execution_count": null,
   "metadata": {},
   "outputs": [],
   "source": [
    "plt.figure(figsize=[10,5],dpi = 100)\n",
    "plt.title('Accuracy Comparison')\n",
    "plt.xlabel('Accuracy')\n",
    "plt.ylabel('Algorithm')\n",
    "sns.barplot(x = acc,y = model,palette='dark')"
   ]
  },
  {
   "cell_type": "code",
   "execution_count": null,
   "metadata": {},
   "outputs": [],
   "source": [
    "accuracy_models = dict(zip(model, acc))\n",
    "for k, v in accuracy_models.items():\n",
    "    print (k, '-->', v)"
   ]
  },
  {
   "cell_type": "markdown",
   "metadata": {},
   "source": [
    "## Making a prediction"
   ]
  },
  {
   "cell_type": "code",
   "execution_count": null,
   "metadata": {},
   "outputs": [],
   "source": [
    "data = np.array([[104,18, 30, 23.603016, 60.3, 6.7, 140.91]])\n",
    "prediction = RF.predict(data)\n",
    "print(prediction)"
   ]
  },
  {
   "cell_type": "code",
   "execution_count": null,
   "metadata": {},
   "outputs": [],
   "source": [
    "data = np.array([[83, 45, 60, 28, 70.3, 7.0, 150.9]])\n",
    "prediction = RF.predict(data)\n",
    "print(prediction)"
   ]
  }
 ],
 "metadata": {
  "kernelspec": {
   "display_name": "Python 3 (ipykernel)",
   "language": "python",
   "name": "python3"
  },
  "language_info": {
   "codemirror_mode": {
    "name": "ipython",
    "version": 3
   },
   "file_extension": ".py",
   "mimetype": "text/x-python",
   "name": "python",
   "nbconvert_exporter": "python",
   "pygments_lexer": "ipython3",
   "version": "3.6.12"
  }
 },
 "nbformat": 4,
 "nbformat_minor": 4
}
